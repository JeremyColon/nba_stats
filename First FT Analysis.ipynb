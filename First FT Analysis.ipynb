{
 "cells": [
  {
   "cell_type": "code",
   "execution_count": 26,
   "id": "fcf383e0",
   "metadata": {
    "ExecuteTime": {
     "end_time": "2024-11-20T15:53:34.021675Z",
     "start_time": "2024-11-20T15:53:34.013304Z"
    }
   },
   "outputs": [],
   "source": [
    "import pandas as pd\n",
    "import polars\n",
    "from nba_api.stats import endpoints as nba_endpoints\n",
    "from nba_api.live.nba import endpoints as nba_live_endpoints\n",
    "import plotly.graph_objects as go\n",
    "from scipy.stats import shapiro \n",
    "from scipy.stats import lognorm\n",
    "from pprint import pprint"
   ]
  },
  {
   "cell_type": "code",
   "execution_count": 30,
   "id": "52f3d79d",
   "metadata": {
    "ExecuteTime": {
     "end_time": "2024-11-20T15:54:31.338082Z",
     "start_time": "2024-11-20T15:54:31.335469Z"
    }
   },
   "outputs": [],
   "source": [
    "pd.set_option(\"display.max_rows\", 200)\n",
    "pd.set_option(\"display.max_columns\", 500)"
   ]
  },
  {
   "cell_type": "markdown",
   "id": "e73638ee",
   "metadata": {},
   "source": [
    "# FT Analysis"
   ]
  },
  {
   "cell_type": "markdown",
   "id": "443c58fa",
   "metadata": {},
   "source": [
    "## Tatum's first FT of the game %"
   ]
  },
  {
   "cell_type": "code",
   "execution_count": 7,
   "id": "b0dbb0fe",
   "metadata": {
    "ExecuteTime": {
     "end_time": "2024-11-20T15:50:30.166602Z",
     "start_time": "2024-11-20T15:50:30.017489Z"
    }
   },
   "outputs": [],
   "source": [
    "playerindex = nba_endpoints.playerindex.PlayerIndex()\n",
    "data = playerindex.data_sets[0].get_dict().get(\"data\")\n",
    "headers = playerindex.data_sets[0].get_dict().get(\"headers\")\n",
    "players = pd.DataFrame(\n",
    "    data, columns=headers\n",
    ")"
   ]
  },
  {
   "cell_type": "code",
   "execution_count": 8,
   "id": "608fc316",
   "metadata": {
    "ExecuteTime": {
     "end_time": "2024-11-20T15:50:32.828515Z",
     "start_time": "2024-11-20T15:50:32.805302Z"
    }
   },
   "outputs": [
    {
     "data": {
      "text/html": [
       "<div>\n",
       "<style scoped>\n",
       "    .dataframe tbody tr th:only-of-type {\n",
       "        vertical-align: middle;\n",
       "    }\n",
       "\n",
       "    .dataframe tbody tr th {\n",
       "        vertical-align: top;\n",
       "    }\n",
       "\n",
       "    .dataframe thead th {\n",
       "        text-align: right;\n",
       "    }\n",
       "</style>\n",
       "<table border=\"1\" class=\"dataframe\">\n",
       "  <thead>\n",
       "    <tr style=\"text-align: right;\">\n",
       "      <th></th>\n",
       "      <th>PERSON_ID</th>\n",
       "      <th>PLAYER_LAST_NAME</th>\n",
       "      <th>PLAYER_FIRST_NAME</th>\n",
       "      <th>PLAYER_SLUG</th>\n",
       "      <th>TEAM_ID</th>\n",
       "      <th>TEAM_SLUG</th>\n",
       "      <th>IS_DEFUNCT</th>\n",
       "      <th>TEAM_CITY</th>\n",
       "      <th>TEAM_NAME</th>\n",
       "      <th>TEAM_ABBREVIATION</th>\n",
       "      <th>...</th>\n",
       "      <th>DRAFT_YEAR</th>\n",
       "      <th>DRAFT_ROUND</th>\n",
       "      <th>DRAFT_NUMBER</th>\n",
       "      <th>ROSTER_STATUS</th>\n",
       "      <th>FROM_YEAR</th>\n",
       "      <th>TO_YEAR</th>\n",
       "      <th>PTS</th>\n",
       "      <th>REB</th>\n",
       "      <th>AST</th>\n",
       "      <th>STATS_TIMEFRAME</th>\n",
       "    </tr>\n",
       "  </thead>\n",
       "  <tbody>\n",
       "    <tr>\n",
       "      <th>0</th>\n",
       "      <td>1630173</td>\n",
       "      <td>Achiuwa</td>\n",
       "      <td>Precious</td>\n",
       "      <td>precious-achiuwa</td>\n",
       "      <td>1610612752</td>\n",
       "      <td>knicks</td>\n",
       "      <td>0</td>\n",
       "      <td>New York</td>\n",
       "      <td>Knicks</td>\n",
       "      <td>NYK</td>\n",
       "      <td>...</td>\n",
       "      <td>2020.0</td>\n",
       "      <td>1.0</td>\n",
       "      <td>20.0</td>\n",
       "      <td>1.0</td>\n",
       "      <td>2020</td>\n",
       "      <td>2024</td>\n",
       "      <td>NaN</td>\n",
       "      <td>NaN</td>\n",
       "      <td>NaN</td>\n",
       "      <td>Season</td>\n",
       "    </tr>\n",
       "    <tr>\n",
       "      <th>1</th>\n",
       "      <td>203500</td>\n",
       "      <td>Adams</td>\n",
       "      <td>Steven</td>\n",
       "      <td>steven-adams</td>\n",
       "      <td>1610612745</td>\n",
       "      <td>rockets</td>\n",
       "      <td>0</td>\n",
       "      <td>Houston</td>\n",
       "      <td>Rockets</td>\n",
       "      <td>HOU</td>\n",
       "      <td>...</td>\n",
       "      <td>2013.0</td>\n",
       "      <td>1.0</td>\n",
       "      <td>12.0</td>\n",
       "      <td>1.0</td>\n",
       "      <td>2013</td>\n",
       "      <td>2024</td>\n",
       "      <td>2.7</td>\n",
       "      <td>2.9</td>\n",
       "      <td>1.1</td>\n",
       "      <td>Season</td>\n",
       "    </tr>\n",
       "    <tr>\n",
       "      <th>2</th>\n",
       "      <td>1628389</td>\n",
       "      <td>Adebayo</td>\n",
       "      <td>Bam</td>\n",
       "      <td>bam-adebayo</td>\n",
       "      <td>1610612748</td>\n",
       "      <td>heat</td>\n",
       "      <td>0</td>\n",
       "      <td>Miami</td>\n",
       "      <td>Heat</td>\n",
       "      <td>MIA</td>\n",
       "      <td>...</td>\n",
       "      <td>2017.0</td>\n",
       "      <td>1.0</td>\n",
       "      <td>14.0</td>\n",
       "      <td>1.0</td>\n",
       "      <td>2017</td>\n",
       "      <td>2024</td>\n",
       "      <td>16.3</td>\n",
       "      <td>9.5</td>\n",
       "      <td>3.9</td>\n",
       "      <td>Season</td>\n",
       "    </tr>\n",
       "    <tr>\n",
       "      <th>3</th>\n",
       "      <td>1630534</td>\n",
       "      <td>Agbaji</td>\n",
       "      <td>Ochai</td>\n",
       "      <td>ochai-agbaji</td>\n",
       "      <td>1610612761</td>\n",
       "      <td>raptors</td>\n",
       "      <td>0</td>\n",
       "      <td>Toronto</td>\n",
       "      <td>Raptors</td>\n",
       "      <td>TOR</td>\n",
       "      <td>...</td>\n",
       "      <td>2022.0</td>\n",
       "      <td>1.0</td>\n",
       "      <td>14.0</td>\n",
       "      <td>1.0</td>\n",
       "      <td>2022</td>\n",
       "      <td>2024</td>\n",
       "      <td>13.0</td>\n",
       "      <td>4.9</td>\n",
       "      <td>2.2</td>\n",
       "      <td>Season</td>\n",
       "    </tr>\n",
       "    <tr>\n",
       "      <th>4</th>\n",
       "      <td>1630583</td>\n",
       "      <td>Aldama</td>\n",
       "      <td>Santi</td>\n",
       "      <td>santi-aldama</td>\n",
       "      <td>1610612763</td>\n",
       "      <td>grizzlies</td>\n",
       "      <td>0</td>\n",
       "      <td>Memphis</td>\n",
       "      <td>Grizzlies</td>\n",
       "      <td>MEM</td>\n",
       "      <td>...</td>\n",
       "      <td>2021.0</td>\n",
       "      <td>1.0</td>\n",
       "      <td>30.0</td>\n",
       "      <td>1.0</td>\n",
       "      <td>2021</td>\n",
       "      <td>2024</td>\n",
       "      <td>12.9</td>\n",
       "      <td>7.1</td>\n",
       "      <td>3.2</td>\n",
       "      <td>Season</td>\n",
       "    </tr>\n",
       "    <tr>\n",
       "      <th>...</th>\n",
       "      <td>...</td>\n",
       "      <td>...</td>\n",
       "      <td>...</td>\n",
       "      <td>...</td>\n",
       "      <td>...</td>\n",
       "      <td>...</td>\n",
       "      <td>...</td>\n",
       "      <td>...</td>\n",
       "      <td>...</td>\n",
       "      <td>...</td>\n",
       "      <td>...</td>\n",
       "      <td>...</td>\n",
       "      <td>...</td>\n",
       "      <td>...</td>\n",
       "      <td>...</td>\n",
       "      <td>...</td>\n",
       "      <td>...</td>\n",
       "      <td>...</td>\n",
       "      <td>...</td>\n",
       "      <td>...</td>\n",
       "      <td>...</td>\n",
       "    </tr>\n",
       "    <tr>\n",
       "      <th>525</th>\n",
       "      <td>203469</td>\n",
       "      <td>Zeller</td>\n",
       "      <td>Cody</td>\n",
       "      <td>cody-zeller</td>\n",
       "      <td>1610612737</td>\n",
       "      <td>hawks</td>\n",
       "      <td>0</td>\n",
       "      <td>Atlanta</td>\n",
       "      <td>Hawks</td>\n",
       "      <td>ATL</td>\n",
       "      <td>...</td>\n",
       "      <td>2013.0</td>\n",
       "      <td>1.0</td>\n",
       "      <td>4.0</td>\n",
       "      <td>1.0</td>\n",
       "      <td>2013</td>\n",
       "      <td>2024</td>\n",
       "      <td>NaN</td>\n",
       "      <td>NaN</td>\n",
       "      <td>NaN</td>\n",
       "      <td>Season</td>\n",
       "    </tr>\n",
       "    <tr>\n",
       "      <th>526</th>\n",
       "      <td>1627826</td>\n",
       "      <td>Zubac</td>\n",
       "      <td>Ivica</td>\n",
       "      <td>ivica-zubac</td>\n",
       "      <td>1610612746</td>\n",
       "      <td>clippers</td>\n",
       "      <td>0</td>\n",
       "      <td>LA</td>\n",
       "      <td>Clippers</td>\n",
       "      <td>LAC</td>\n",
       "      <td>...</td>\n",
       "      <td>2016.0</td>\n",
       "      <td>2.0</td>\n",
       "      <td>32.0</td>\n",
       "      <td>1.0</td>\n",
       "      <td>2016</td>\n",
       "      <td>2024</td>\n",
       "      <td>15.3</td>\n",
       "      <td>12.4</td>\n",
       "      <td>2.3</td>\n",
       "      <td>Season</td>\n",
       "    </tr>\n",
       "    <tr>\n",
       "      <th>527</th>\n",
       "      <td>1641783</td>\n",
       "      <td>da Silva</td>\n",
       "      <td>Tristan</td>\n",
       "      <td>tristan-da-silva</td>\n",
       "      <td>1610612753</td>\n",
       "      <td>magic</td>\n",
       "      <td>0</td>\n",
       "      <td>Orlando</td>\n",
       "      <td>Magic</td>\n",
       "      <td>ORL</td>\n",
       "      <td>...</td>\n",
       "      <td>2024.0</td>\n",
       "      <td>1.0</td>\n",
       "      <td>18.0</td>\n",
       "      <td>1.0</td>\n",
       "      <td>2024</td>\n",
       "      <td>2024</td>\n",
       "      <td>6.6</td>\n",
       "      <td>3.9</td>\n",
       "      <td>2.1</td>\n",
       "      <td>Season</td>\n",
       "    </tr>\n",
       "    <tr>\n",
       "      <th>528</th>\n",
       "      <td>1628427</td>\n",
       "      <td>Čančar</td>\n",
       "      <td>Vlatko</td>\n",
       "      <td>vlatko-čančar</td>\n",
       "      <td>1610612743</td>\n",
       "      <td>nuggets</td>\n",
       "      <td>0</td>\n",
       "      <td>Denver</td>\n",
       "      <td>Nuggets</td>\n",
       "      <td>DEN</td>\n",
       "      <td>...</td>\n",
       "      <td>2017.0</td>\n",
       "      <td>2.0</td>\n",
       "      <td>49.0</td>\n",
       "      <td>1.0</td>\n",
       "      <td>2019</td>\n",
       "      <td>2024</td>\n",
       "      <td>2.3</td>\n",
       "      <td>2.0</td>\n",
       "      <td>0.0</td>\n",
       "      <td>Season</td>\n",
       "    </tr>\n",
       "    <tr>\n",
       "      <th>529</th>\n",
       "      <td>203967</td>\n",
       "      <td>Šarić</td>\n",
       "      <td>Dario</td>\n",
       "      <td>dario-šarić</td>\n",
       "      <td>1610612743</td>\n",
       "      <td>nuggets</td>\n",
       "      <td>0</td>\n",
       "      <td>Denver</td>\n",
       "      <td>Nuggets</td>\n",
       "      <td>DEN</td>\n",
       "      <td>...</td>\n",
       "      <td>2014.0</td>\n",
       "      <td>1.0</td>\n",
       "      <td>12.0</td>\n",
       "      <td>1.0</td>\n",
       "      <td>2016</td>\n",
       "      <td>2024</td>\n",
       "      <td>4.0</td>\n",
       "      <td>3.9</td>\n",
       "      <td>1.3</td>\n",
       "      <td>Season</td>\n",
       "    </tr>\n",
       "  </tbody>\n",
       "</table>\n",
       "<p>530 rows × 26 columns</p>\n",
       "</div>"
      ],
      "text/plain": [
       "     PERSON_ID PLAYER_LAST_NAME PLAYER_FIRST_NAME       PLAYER_SLUG  \\\n",
       "0      1630173          Achiuwa          Precious  precious-achiuwa   \n",
       "1       203500            Adams            Steven      steven-adams   \n",
       "2      1628389          Adebayo               Bam       bam-adebayo   \n",
       "3      1630534           Agbaji             Ochai      ochai-agbaji   \n",
       "4      1630583           Aldama             Santi      santi-aldama   \n",
       "..         ...              ...               ...               ...   \n",
       "525     203469           Zeller              Cody       cody-zeller   \n",
       "526    1627826            Zubac             Ivica       ivica-zubac   \n",
       "527    1641783         da Silva           Tristan  tristan-da-silva   \n",
       "528    1628427           Čančar            Vlatko     vlatko-čančar   \n",
       "529     203967            Šarić             Dario       dario-šarić   \n",
       "\n",
       "        TEAM_ID  TEAM_SLUG  IS_DEFUNCT TEAM_CITY  TEAM_NAME TEAM_ABBREVIATION  \\\n",
       "0    1610612752     knicks           0  New York     Knicks               NYK   \n",
       "1    1610612745    rockets           0   Houston    Rockets               HOU   \n",
       "2    1610612748       heat           0     Miami       Heat               MIA   \n",
       "3    1610612761    raptors           0   Toronto    Raptors               TOR   \n",
       "4    1610612763  grizzlies           0   Memphis  Grizzlies               MEM   \n",
       "..          ...        ...         ...       ...        ...               ...   \n",
       "525  1610612737      hawks           0   Atlanta      Hawks               ATL   \n",
       "526  1610612746   clippers           0        LA   Clippers               LAC   \n",
       "527  1610612753      magic           0   Orlando      Magic               ORL   \n",
       "528  1610612743    nuggets           0    Denver    Nuggets               DEN   \n",
       "529  1610612743    nuggets           0    Denver    Nuggets               DEN   \n",
       "\n",
       "     ... DRAFT_YEAR DRAFT_ROUND DRAFT_NUMBER ROSTER_STATUS FROM_YEAR TO_YEAR  \\\n",
       "0    ...     2020.0         1.0         20.0           1.0      2020    2024   \n",
       "1    ...     2013.0         1.0         12.0           1.0      2013    2024   \n",
       "2    ...     2017.0         1.0         14.0           1.0      2017    2024   \n",
       "3    ...     2022.0         1.0         14.0           1.0      2022    2024   \n",
       "4    ...     2021.0         1.0         30.0           1.0      2021    2024   \n",
       "..   ...        ...         ...          ...           ...       ...     ...   \n",
       "525  ...     2013.0         1.0          4.0           1.0      2013    2024   \n",
       "526  ...     2016.0         2.0         32.0           1.0      2016    2024   \n",
       "527  ...     2024.0         1.0         18.0           1.0      2024    2024   \n",
       "528  ...     2017.0         2.0         49.0           1.0      2019    2024   \n",
       "529  ...     2014.0         1.0         12.0           1.0      2016    2024   \n",
       "\n",
       "      PTS   REB  AST  STATS_TIMEFRAME  \n",
       "0     NaN   NaN  NaN           Season  \n",
       "1     2.7   2.9  1.1           Season  \n",
       "2    16.3   9.5  3.9           Season  \n",
       "3    13.0   4.9  2.2           Season  \n",
       "4    12.9   7.1  3.2           Season  \n",
       "..    ...   ...  ...              ...  \n",
       "525   NaN   NaN  NaN           Season  \n",
       "526  15.3  12.4  2.3           Season  \n",
       "527   6.6   3.9  2.1           Season  \n",
       "528   2.3   2.0  0.0           Season  \n",
       "529   4.0   3.9  1.3           Season  \n",
       "\n",
       "[530 rows x 26 columns]"
      ]
     },
     "execution_count": 8,
     "metadata": {},
     "output_type": "execute_result"
    }
   ],
   "source": [
    "players"
   ]
  },
  {
   "cell_type": "code",
   "execution_count": 9,
   "id": "a69b8383",
   "metadata": {
    "ExecuteTime": {
     "end_time": "2024-11-20T15:50:46.515548Z",
     "start_time": "2024-11-20T15:50:46.492913Z"
    }
   },
   "outputs": [],
   "source": [
    "player_first_name = \"Jayson\"\n",
    "player_last_name = \"Tatum\"\n",
    "player_team_name = \"Celtics\"\n",
    "tatum_id = players.loc[\n",
    "    (players[\"PLAYER_FIRST_NAME\"]==player_first_name) &\n",
    "    (players[\"PLAYER_LAST_NAME\"]==player_last_name) &\n",
    "    (players[\"TEAM_NAME\"]==player_team_name), \n",
    "    \"PERSON_ID\"\n",
    "].values[0]\n",
    "start_year = players.loc[\n",
    "    (players[\"PLAYER_FIRST_NAME\"]==player_first_name) &\n",
    "    (players[\"PLAYER_LAST_NAME\"]==player_last_name) &\n",
    "    (players[\"TEAM_NAME\"]==player_team_name), \n",
    "    \"DRAFT_YEAR\"\n",
    "].values[0]"
   ]
  },
  {
   "cell_type": "code",
   "execution_count": 10,
   "id": "a3d3f483",
   "metadata": {
    "ExecuteTime": {
     "end_time": "2024-11-20T15:50:46.625515Z",
     "start_time": "2024-11-20T15:50:46.617490Z"
    }
   },
   "outputs": [
    {
     "data": {
      "text/html": [
       "<div>\n",
       "<style scoped>\n",
       "    .dataframe tbody tr th:only-of-type {\n",
       "        vertical-align: middle;\n",
       "    }\n",
       "\n",
       "    .dataframe tbody tr th {\n",
       "        vertical-align: top;\n",
       "    }\n",
       "\n",
       "    .dataframe thead th {\n",
       "        text-align: right;\n",
       "    }\n",
       "</style>\n",
       "<table border=\"1\" class=\"dataframe\">\n",
       "  <thead>\n",
       "    <tr style=\"text-align: right;\">\n",
       "      <th></th>\n",
       "      <th>PERSON_ID</th>\n",
       "      <th>PLAYER_LAST_NAME</th>\n",
       "      <th>PLAYER_FIRST_NAME</th>\n",
       "      <th>PLAYER_SLUG</th>\n",
       "      <th>TEAM_ID</th>\n",
       "      <th>TEAM_SLUG</th>\n",
       "      <th>IS_DEFUNCT</th>\n",
       "      <th>TEAM_CITY</th>\n",
       "      <th>TEAM_NAME</th>\n",
       "      <th>TEAM_ABBREVIATION</th>\n",
       "      <th>...</th>\n",
       "      <th>DRAFT_YEAR</th>\n",
       "      <th>DRAFT_ROUND</th>\n",
       "      <th>DRAFT_NUMBER</th>\n",
       "      <th>ROSTER_STATUS</th>\n",
       "      <th>FROM_YEAR</th>\n",
       "      <th>TO_YEAR</th>\n",
       "      <th>PTS</th>\n",
       "      <th>REB</th>\n",
       "      <th>AST</th>\n",
       "      <th>STATS_TIMEFRAME</th>\n",
       "    </tr>\n",
       "  </thead>\n",
       "  <tbody>\n",
       "    <tr>\n",
       "      <th>446</th>\n",
       "      <td>1628369</td>\n",
       "      <td>Tatum</td>\n",
       "      <td>Jayson</td>\n",
       "      <td>jayson-tatum</td>\n",
       "      <td>1610612738</td>\n",
       "      <td>celtics</td>\n",
       "      <td>0</td>\n",
       "      <td>Boston</td>\n",
       "      <td>Celtics</td>\n",
       "      <td>BOS</td>\n",
       "      <td>...</td>\n",
       "      <td>2017.0</td>\n",
       "      <td>1.0</td>\n",
       "      <td>3.0</td>\n",
       "      <td>1.0</td>\n",
       "      <td>2017</td>\n",
       "      <td>2024</td>\n",
       "      <td>29.9</td>\n",
       "      <td>8.1</td>\n",
       "      <td>5.9</td>\n",
       "      <td>Season</td>\n",
       "    </tr>\n",
       "  </tbody>\n",
       "</table>\n",
       "<p>1 rows × 26 columns</p>\n",
       "</div>"
      ],
      "text/plain": [
       "     PERSON_ID PLAYER_LAST_NAME PLAYER_FIRST_NAME   PLAYER_SLUG     TEAM_ID  \\\n",
       "446    1628369            Tatum            Jayson  jayson-tatum  1610612738   \n",
       "\n",
       "    TEAM_SLUG  IS_DEFUNCT TEAM_CITY TEAM_NAME TEAM_ABBREVIATION  ...  \\\n",
       "446   celtics           0    Boston   Celtics               BOS  ...   \n",
       "\n",
       "    DRAFT_YEAR DRAFT_ROUND DRAFT_NUMBER ROSTER_STATUS FROM_YEAR TO_YEAR   PTS  \\\n",
       "446     2017.0         1.0          3.0           1.0      2017    2024  29.9   \n",
       "\n",
       "     REB  AST  STATS_TIMEFRAME  \n",
       "446  8.1  5.9           Season  \n",
       "\n",
       "[1 rows x 26 columns]"
      ]
     },
     "execution_count": 10,
     "metadata": {},
     "output_type": "execute_result"
    }
   ],
   "source": [
    "players.loc[\n",
    "    (players[\"PLAYER_FIRST_NAME\"]==player_first_name) &\n",
    "    (players[\"PLAYER_LAST_NAME\"]==player_last_name) &\n",
    "    (players[\"TEAM_NAME\"]==player_team_name), \n",
    "]"
   ]
  },
  {
   "cell_type": "code",
   "execution_count": 11,
   "id": "4b057213",
   "metadata": {
    "ExecuteTime": {
     "end_time": "2024-11-20T15:50:48.473239Z",
     "start_time": "2024-11-20T15:50:48.465945Z"
    }
   },
   "outputs": [
    {
     "name": "stdout",
     "output_type": "stream",
     "text": [
      "1628369 2017.0\n"
     ]
    }
   ],
   "source": [
    "print(tatum_id, start_year)"
   ]
  },
  {
   "cell_type": "code",
   "execution_count": 12,
   "id": "f68b5627",
   "metadata": {
    "ExecuteTime": {
     "end_time": "2024-11-20T15:50:49.625008Z",
     "start_time": "2024-11-20T15:50:49.620565Z"
    }
   },
   "outputs": [
    {
     "name": "stdout",
     "output_type": "stream",
     "text": [
      "['2010-11', '2011-12', '2012-13', '2013-14', '2014-15', '2015-16', '2016-17', '2017-18', '2018-19', '2019-20', '2020-21', '2021-22', '2022-23', '2023-24', '2024-25']\n"
     ]
    }
   ],
   "source": [
    "seasons = [\n",
    "    f\"{x}-{(x+1)-2000}\" for x in range(int(2010),2025)\n",
    "]\n",
    "print(seasons)\n",
    "# ['2017-18', '2018-19', '2019-20', '2020-21', '2021-22', '2022-23', '2023-24']"
   ]
  },
  {
   "cell_type": "code",
   "execution_count": 13,
   "id": "5b326232",
   "metadata": {
    "ExecuteTime": {
     "end_time": "2024-11-20T15:51:10.761209Z",
     "start_time": "2024-11-20T15:50:55.967505Z"
    }
   },
   "outputs": [
    {
     "name": "stdout",
     "output_type": "stream",
     "text": [
      "528\n"
     ]
    }
   ],
   "source": [
    "playerlogs = nba_endpoints.playergamelogs\n",
    "\n",
    "tatum_games = []\n",
    "for s in seasons:\n",
    "    games = playerlogs.PlayerGameLogs(\n",
    "        season_nullable=s,\n",
    "        player_id_nullable=tatum_id\n",
    "    ).get_data_frames()[0]\n",
    "    tatum_games.extend(games[\"GAME_ID\"].to_list())\n",
    "\n",
    "print(len(tatum_games))"
   ]
  },
  {
   "cell_type": "code",
   "execution_count": 14,
   "id": "b0381252",
   "metadata": {
    "ExecuteTime": {
     "end_time": "2024-11-20T15:51:10.897865Z",
     "start_time": "2024-11-20T15:51:10.894879Z"
    }
   },
   "outputs": [
    {
     "data": {
      "text/plain": [
       "528"
      ]
     },
     "execution_count": 14,
     "metadata": {},
     "output_type": "execute_result"
    }
   ],
   "source": [
    "len(tatum_games)"
   ]
  },
  {
   "cell_type": "code",
   "execution_count": 32,
   "id": "ffdc2454",
   "metadata": {
    "ExecuteTime": {
     "end_time": "2024-11-20T15:54:46.232295Z",
     "start_time": "2024-11-20T15:54:46.223718Z"
    }
   },
   "outputs": [],
   "source": [
    "game = nba_endpoints.playbyplayv3"
   ]
  },
  {
   "cell_type": "code",
   "execution_count": 33,
   "id": "961da8d1",
   "metadata": {
    "ExecuteTime": {
     "end_time": "2024-11-20T15:54:46.675841Z",
     "start_time": "2024-11-20T15:54:46.513710Z"
    }
   },
   "outputs": [
    {
     "data": {
      "text/html": [
       "<div>\n",
       "<style scoped>\n",
       "    .dataframe tbody tr th:only-of-type {\n",
       "        vertical-align: middle;\n",
       "    }\n",
       "\n",
       "    .dataframe tbody tr th {\n",
       "        vertical-align: top;\n",
       "    }\n",
       "\n",
       "    .dataframe thead th {\n",
       "        text-align: right;\n",
       "    }\n",
       "</style>\n",
       "<table border=\"1\" class=\"dataframe\">\n",
       "  <thead>\n",
       "    <tr style=\"text-align: right;\">\n",
       "      <th></th>\n",
       "      <th>actionNumber</th>\n",
       "      <th>clock</th>\n",
       "      <th>period</th>\n",
       "      <th>teamId</th>\n",
       "      <th>teamTricode</th>\n",
       "      <th>personId</th>\n",
       "      <th>playerName</th>\n",
       "      <th>playerNameI</th>\n",
       "      <th>xLegacy</th>\n",
       "      <th>yLegacy</th>\n",
       "      <th>shotDistance</th>\n",
       "      <th>shotResult</th>\n",
       "      <th>isFieldGoal</th>\n",
       "      <th>scoreHome</th>\n",
       "      <th>scoreAway</th>\n",
       "      <th>pointsTotal</th>\n",
       "      <th>location</th>\n",
       "      <th>description</th>\n",
       "      <th>actionType</th>\n",
       "      <th>subType</th>\n",
       "      <th>videoAvailable</th>\n",
       "      <th>shotValue</th>\n",
       "      <th>actionId</th>\n",
       "    </tr>\n",
       "  </thead>\n",
       "  <tbody>\n",
       "    <tr>\n",
       "      <th>0</th>\n",
       "      <td>2</td>\n",
       "      <td>PT12M00.00S</td>\n",
       "      <td>1</td>\n",
       "      <td>0</td>\n",
       "      <td></td>\n",
       "      <td>0</td>\n",
       "      <td></td>\n",
       "      <td></td>\n",
       "      <td>0</td>\n",
       "      <td>0</td>\n",
       "      <td>0</td>\n",
       "      <td></td>\n",
       "      <td>0</td>\n",
       "      <td>0</td>\n",
       "      <td>0</td>\n",
       "      <td>0</td>\n",
       "      <td></td>\n",
       "      <td>Start of 1st Period (8:16 PM EST)</td>\n",
       "      <td>period</td>\n",
       "      <td>start</td>\n",
       "      <td>0</td>\n",
       "      <td>0</td>\n",
       "      <td>1</td>\n",
       "    </tr>\n",
       "    <tr>\n",
       "      <th>1</th>\n",
       "      <td>4</td>\n",
       "      <td>PT12M00.00S</td>\n",
       "      <td>1</td>\n",
       "      <td>1610612764</td>\n",
       "      <td>WAS</td>\n",
       "      <td>101162</td>\n",
       "      <td>Gortat</td>\n",
       "      <td>M. Gortat</td>\n",
       "      <td>0</td>\n",
       "      <td>0</td>\n",
       "      <td>0</td>\n",
       "      <td></td>\n",
       "      <td>0</td>\n",
       "      <td></td>\n",
       "      <td></td>\n",
       "      <td>0</td>\n",
       "      <td>h</td>\n",
       "      <td>Jump Ball Gortat vs. Baynes: Tip to Morris</td>\n",
       "      <td>Jump Ball</td>\n",
       "      <td></td>\n",
       "      <td>1</td>\n",
       "      <td>0</td>\n",
       "      <td>2</td>\n",
       "    </tr>\n",
       "    <tr>\n",
       "      <th>2</th>\n",
       "      <td>7</td>\n",
       "      <td>PT11M42.00S</td>\n",
       "      <td>1</td>\n",
       "      <td>1610612764</td>\n",
       "      <td>WAS</td>\n",
       "      <td>203490</td>\n",
       "      <td>Porter Jr.</td>\n",
       "      <td>O. Porter Jr.</td>\n",
       "      <td>-128</td>\n",
       "      <td>145</td>\n",
       "      <td>19</td>\n",
       "      <td>Missed</td>\n",
       "      <td>1</td>\n",
       "      <td></td>\n",
       "      <td></td>\n",
       "      <td>0</td>\n",
       "      <td>h</td>\n",
       "      <td>MISS Porter Jr. 19' Step Back Jump Shot</td>\n",
       "      <td>Missed Shot</td>\n",
       "      <td>Step Back Jump shot</td>\n",
       "      <td>1</td>\n",
       "      <td>0</td>\n",
       "      <td>3</td>\n",
       "    </tr>\n",
       "    <tr>\n",
       "      <th>3</th>\n",
       "      <td>8</td>\n",
       "      <td>PT11M39.00S</td>\n",
       "      <td>1</td>\n",
       "      <td>1610612738</td>\n",
       "      <td>BOS</td>\n",
       "      <td>1626179</td>\n",
       "      <td>Rozier</td>\n",
       "      <td>T. Rozier</td>\n",
       "      <td>0</td>\n",
       "      <td>0</td>\n",
       "      <td>0</td>\n",
       "      <td></td>\n",
       "      <td>0</td>\n",
       "      <td></td>\n",
       "      <td></td>\n",
       "      <td>0</td>\n",
       "      <td>v</td>\n",
       "      <td>Rozier REBOUND (Off:0 Def:1)</td>\n",
       "      <td>Rebound</td>\n",
       "      <td>Unknown</td>\n",
       "      <td>1</td>\n",
       "      <td>0</td>\n",
       "      <td>4</td>\n",
       "    </tr>\n",
       "    <tr>\n",
       "      <th>4</th>\n",
       "      <td>10</td>\n",
       "      <td>PT11M17.00S</td>\n",
       "      <td>1</td>\n",
       "      <td>1610612738</td>\n",
       "      <td>BOS</td>\n",
       "      <td>1628369</td>\n",
       "      <td>Tatum</td>\n",
       "      <td>J. Tatum</td>\n",
       "      <td>-192</td>\n",
       "      <td>20</td>\n",
       "      <td>19</td>\n",
       "      <td>Missed</td>\n",
       "      <td>1</td>\n",
       "      <td></td>\n",
       "      <td></td>\n",
       "      <td>0</td>\n",
       "      <td>v</td>\n",
       "      <td>MISS Tatum 19' Fadeaway Jumper</td>\n",
       "      <td>Missed Shot</td>\n",
       "      <td>Fadeaway Jump Shot</td>\n",
       "      <td>1</td>\n",
       "      <td>0</td>\n",
       "      <td>5</td>\n",
       "    </tr>\n",
       "    <tr>\n",
       "      <th>...</th>\n",
       "      <td>...</td>\n",
       "      <td>...</td>\n",
       "      <td>...</td>\n",
       "      <td>...</td>\n",
       "      <td>...</td>\n",
       "      <td>...</td>\n",
       "      <td>...</td>\n",
       "      <td>...</td>\n",
       "      <td>...</td>\n",
       "      <td>...</td>\n",
       "      <td>...</td>\n",
       "      <td>...</td>\n",
       "      <td>...</td>\n",
       "      <td>...</td>\n",
       "      <td>...</td>\n",
       "      <td>...</td>\n",
       "      <td>...</td>\n",
       "      <td>...</td>\n",
       "      <td>...</td>\n",
       "      <td>...</td>\n",
       "      <td>...</td>\n",
       "      <td>...</td>\n",
       "      <td>...</td>\n",
       "    </tr>\n",
       "    <tr>\n",
       "      <th>497</th>\n",
       "      <td>670</td>\n",
       "      <td>PT00M23.80S</td>\n",
       "      <td>4</td>\n",
       "      <td>1610612764</td>\n",
       "      <td>WAS</td>\n",
       "      <td>201196</td>\n",
       "      <td>Sessions</td>\n",
       "      <td>R. Sessions</td>\n",
       "      <td>0</td>\n",
       "      <td>0</td>\n",
       "      <td>0</td>\n",
       "      <td></td>\n",
       "      <td>0</td>\n",
       "      <td>113</td>\n",
       "      <td>99</td>\n",
       "      <td>212</td>\n",
       "      <td>h</td>\n",
       "      <td>Sessions Free Throw 1 of 1 (3 PTS)</td>\n",
       "      <td>Free Throw</td>\n",
       "      <td>Free Throw 1 of 1</td>\n",
       "      <td>0</td>\n",
       "      <td>0</td>\n",
       "      <td>498</td>\n",
       "    </tr>\n",
       "    <tr>\n",
       "      <th>498</th>\n",
       "      <td>671</td>\n",
       "      <td>PT00M17.20S</td>\n",
       "      <td>4</td>\n",
       "      <td>1610612738</td>\n",
       "      <td>BOS</td>\n",
       "      <td>1628400</td>\n",
       "      <td>Ojeleye</td>\n",
       "      <td>S. Ojeleye</td>\n",
       "      <td>17</td>\n",
       "      <td>35</td>\n",
       "      <td>4</td>\n",
       "      <td>Missed</td>\n",
       "      <td>1</td>\n",
       "      <td></td>\n",
       "      <td></td>\n",
       "      <td>0</td>\n",
       "      <td>v</td>\n",
       "      <td>MISS Ojeleye 4' Driving Layup</td>\n",
       "      <td>Missed Shot</td>\n",
       "      <td>Driving Layup Shot</td>\n",
       "      <td>1</td>\n",
       "      <td>0</td>\n",
       "      <td>499</td>\n",
       "    </tr>\n",
       "    <tr>\n",
       "      <th>499</th>\n",
       "      <td>672</td>\n",
       "      <td>PT00M16.90S</td>\n",
       "      <td>4</td>\n",
       "      <td>1610612738</td>\n",
       "      <td>BOS</td>\n",
       "      <td>1628443</td>\n",
       "      <td>Allen</td>\n",
       "      <td>K. Allen</td>\n",
       "      <td>0</td>\n",
       "      <td>0</td>\n",
       "      <td>0</td>\n",
       "      <td></td>\n",
       "      <td>0</td>\n",
       "      <td></td>\n",
       "      <td></td>\n",
       "      <td>0</td>\n",
       "      <td>v</td>\n",
       "      <td>Allen REBOUND (Off:1 Def:2)</td>\n",
       "      <td>Rebound</td>\n",
       "      <td>Unknown</td>\n",
       "      <td>1</td>\n",
       "      <td>0</td>\n",
       "      <td>500</td>\n",
       "    </tr>\n",
       "    <tr>\n",
       "      <th>500</th>\n",
       "      <td>673</td>\n",
       "      <td>PT00M16.20S</td>\n",
       "      <td>4</td>\n",
       "      <td>1610612738</td>\n",
       "      <td>BOS</td>\n",
       "      <td>1628443</td>\n",
       "      <td>Allen</td>\n",
       "      <td>K. Allen</td>\n",
       "      <td>0</td>\n",
       "      <td>-6</td>\n",
       "      <td>1</td>\n",
       "      <td>Made</td>\n",
       "      <td>1</td>\n",
       "      <td>113</td>\n",
       "      <td>101</td>\n",
       "      <td>214</td>\n",
       "      <td>v</td>\n",
       "      <td>Allen 1' Putback Layup (6 PTS)</td>\n",
       "      <td>Made Shot</td>\n",
       "      <td>Putback Layup Shot</td>\n",
       "      <td>1</td>\n",
       "      <td>0</td>\n",
       "      <td>501</td>\n",
       "    </tr>\n",
       "    <tr>\n",
       "      <th>501</th>\n",
       "      <td>674</td>\n",
       "      <td>PT00M00.00S</td>\n",
       "      <td>4</td>\n",
       "      <td>0</td>\n",
       "      <td></td>\n",
       "      <td>0</td>\n",
       "      <td></td>\n",
       "      <td></td>\n",
       "      <td>0</td>\n",
       "      <td>0</td>\n",
       "      <td>0</td>\n",
       "      <td></td>\n",
       "      <td>0</td>\n",
       "      <td>113</td>\n",
       "      <td>101</td>\n",
       "      <td>214</td>\n",
       "      <td></td>\n",
       "      <td>End of 4th Period (10:29 PM EST)</td>\n",
       "      <td>period</td>\n",
       "      <td>end</td>\n",
       "      <td>1</td>\n",
       "      <td>0</td>\n",
       "      <td>502</td>\n",
       "    </tr>\n",
       "  </tbody>\n",
       "</table>\n",
       "<p>502 rows × 23 columns</p>\n",
       "</div>"
      ],
      "text/plain": [
       "     actionNumber        clock  period      teamId teamTricode  personId  \\\n",
       "0               2  PT12M00.00S       1           0                     0   \n",
       "1               4  PT12M00.00S       1  1610612764         WAS    101162   \n",
       "2               7  PT11M42.00S       1  1610612764         WAS    203490   \n",
       "3               8  PT11M39.00S       1  1610612738         BOS   1626179   \n",
       "4              10  PT11M17.00S       1  1610612738         BOS   1628369   \n",
       "..            ...          ...     ...         ...         ...       ...   \n",
       "497           670  PT00M23.80S       4  1610612764         WAS    201196   \n",
       "498           671  PT00M17.20S       4  1610612738         BOS   1628400   \n",
       "499           672  PT00M16.90S       4  1610612738         BOS   1628443   \n",
       "500           673  PT00M16.20S       4  1610612738         BOS   1628443   \n",
       "501           674  PT00M00.00S       4           0                     0   \n",
       "\n",
       "     playerName    playerNameI  xLegacy  yLegacy  shotDistance shotResult  \\\n",
       "0                                     0        0             0              \n",
       "1        Gortat      M. Gortat        0        0             0              \n",
       "2    Porter Jr.  O. Porter Jr.     -128      145            19     Missed   \n",
       "3        Rozier      T. Rozier        0        0             0              \n",
       "4         Tatum       J. Tatum     -192       20            19     Missed   \n",
       "..          ...            ...      ...      ...           ...        ...   \n",
       "497    Sessions    R. Sessions        0        0             0              \n",
       "498     Ojeleye     S. Ojeleye       17       35             4     Missed   \n",
       "499       Allen       K. Allen        0        0             0              \n",
       "500       Allen       K. Allen        0       -6             1       Made   \n",
       "501                                   0        0             0              \n",
       "\n",
       "     isFieldGoal scoreHome scoreAway  pointsTotal location  \\\n",
       "0              0         0         0            0            \n",
       "1              0                                0        h   \n",
       "2              1                                0        h   \n",
       "3              0                                0        v   \n",
       "4              1                                0        v   \n",
       "..           ...       ...       ...          ...      ...   \n",
       "497            0       113        99          212        h   \n",
       "498            1                                0        v   \n",
       "499            0                                0        v   \n",
       "500            1       113       101          214        v   \n",
       "501            0       113       101          214            \n",
       "\n",
       "                                    description   actionType  \\\n",
       "0             Start of 1st Period (8:16 PM EST)       period   \n",
       "1    Jump Ball Gortat vs. Baynes: Tip to Morris    Jump Ball   \n",
       "2       MISS Porter Jr. 19' Step Back Jump Shot  Missed Shot   \n",
       "3                  Rozier REBOUND (Off:0 Def:1)      Rebound   \n",
       "4                MISS Tatum 19' Fadeaway Jumper  Missed Shot   \n",
       "..                                          ...          ...   \n",
       "497          Sessions Free Throw 1 of 1 (3 PTS)   Free Throw   \n",
       "498               MISS Ojeleye 4' Driving Layup  Missed Shot   \n",
       "499                 Allen REBOUND (Off:1 Def:2)      Rebound   \n",
       "500              Allen 1' Putback Layup (6 PTS)    Made Shot   \n",
       "501            End of 4th Period (10:29 PM EST)       period   \n",
       "\n",
       "                 subType  videoAvailable  shotValue  actionId  \n",
       "0                  start               0          0         1  \n",
       "1                                      1          0         2  \n",
       "2    Step Back Jump shot               1          0         3  \n",
       "3                Unknown               1          0         4  \n",
       "4     Fadeaway Jump Shot               1          0         5  \n",
       "..                   ...             ...        ...       ...  \n",
       "497    Free Throw 1 of 1               0          0       498  \n",
       "498   Driving Layup Shot               1          0       499  \n",
       "499              Unknown               1          0       500  \n",
       "500   Putback Layup Shot               1          0       501  \n",
       "501                  end               1          0       502  \n",
       "\n",
       "[502 rows x 23 columns]"
      ]
     },
     "execution_count": 33,
     "metadata": {},
     "output_type": "execute_result"
    }
   ],
   "source": [
    "pd.DataFrame(game.PlayByPlayV3(game_id=tatum_games[0]).get_dict().get(\"game\").get(\"actions\"))"
   ]
  },
  {
   "cell_type": "code",
   "execution_count": 24,
   "id": "b4bb68d5",
   "metadata": {
    "ExecuteTime": {
     "end_time": "2024-11-20T15:53:24.251108Z",
     "start_time": "2024-11-20T15:53:24.245485Z"
    }
   },
   "outputs": [],
   "source": [
    "game = nba_live_endpoints.playbyplay"
   ]
  },
  {
   "cell_type": "code",
   "execution_count": 28,
   "id": "e6b86b01",
   "metadata": {
    "ExecuteTime": {
     "end_time": "2024-11-20T15:53:53.209527Z",
     "start_time": "2024-11-20T15:53:52.981171Z"
    }
   },
   "outputs": [],
   "source": [
    "df = pd.DataFrame(\n",
    "    game.PlayByPlay(\n",
    "        game_id=tatum_games[200]\n",
    "    ).get_dict().get(\"game\").get(\"actions\")\n",
    ")"
   ]
  },
  {
   "cell_type": "code",
   "execution_count": 29,
   "id": "bae1eac0",
   "metadata": {
    "ExecuteTime": {
     "end_time": "2024-11-20T15:53:55.118496Z",
     "start_time": "2024-11-20T15:53:55.092596Z"
    }
   },
   "outputs": [
    {
     "data": {
      "text/html": [
       "<div>\n",
       "<style scoped>\n",
       "    .dataframe tbody tr th:only-of-type {\n",
       "        vertical-align: middle;\n",
       "    }\n",
       "\n",
       "    .dataframe tbody tr th {\n",
       "        vertical-align: top;\n",
       "    }\n",
       "\n",
       "    .dataframe thead th {\n",
       "        text-align: right;\n",
       "    }\n",
       "</style>\n",
       "<table border=\"1\" class=\"dataframe\">\n",
       "  <thead>\n",
       "    <tr style=\"text-align: right;\">\n",
       "      <th></th>\n",
       "      <th>actionNumber</th>\n",
       "      <th>clock</th>\n",
       "      <th>timeActual</th>\n",
       "      <th>period</th>\n",
       "      <th>periodType</th>\n",
       "      <th>actionType</th>\n",
       "      <th>subType</th>\n",
       "      <th>qualifiers</th>\n",
       "      <th>personId</th>\n",
       "      <th>x</th>\n",
       "      <th>...</th>\n",
       "      <th>assistTotal</th>\n",
       "      <th>stealPlayerName</th>\n",
       "      <th>stealPersonId</th>\n",
       "      <th>foulPersonalTotal</th>\n",
       "      <th>foulTechnicalTotal</th>\n",
       "      <th>foulDrawnPlayerName</th>\n",
       "      <th>foulDrawnPersonId</th>\n",
       "      <th>blockPlayerName</th>\n",
       "      <th>blockPersonId</th>\n",
       "      <th>value</th>\n",
       "    </tr>\n",
       "  </thead>\n",
       "  <tbody>\n",
       "    <tr>\n",
       "      <th>0</th>\n",
       "      <td>2</td>\n",
       "      <td>PT12M00.00S</td>\n",
       "      <td>2019-12-19T02:40:40.4Z</td>\n",
       "      <td>1</td>\n",
       "      <td>REGULAR</td>\n",
       "      <td>period</td>\n",
       "      <td>start</td>\n",
       "      <td>[]</td>\n",
       "      <td>0</td>\n",
       "      <td>NaN</td>\n",
       "      <td>...</td>\n",
       "      <td>NaN</td>\n",
       "      <td>NaN</td>\n",
       "      <td>NaN</td>\n",
       "      <td>NaN</td>\n",
       "      <td>NaN</td>\n",
       "      <td>NaN</td>\n",
       "      <td>NaN</td>\n",
       "      <td>NaN</td>\n",
       "      <td>NaN</td>\n",
       "      <td>NaN</td>\n",
       "    </tr>\n",
       "    <tr>\n",
       "      <th>1</th>\n",
       "      <td>4</td>\n",
       "      <td>PT11M57.00S</td>\n",
       "      <td>2019-12-19T02:41:10.6Z</td>\n",
       "      <td>1</td>\n",
       "      <td>REGULAR</td>\n",
       "      <td>jumpball</td>\n",
       "      <td>recovered</td>\n",
       "      <td>[]</td>\n",
       "      <td>203939</td>\n",
       "      <td>NaN</td>\n",
       "      <td>...</td>\n",
       "      <td>NaN</td>\n",
       "      <td>NaN</td>\n",
       "      <td>NaN</td>\n",
       "      <td>NaN</td>\n",
       "      <td>NaN</td>\n",
       "      <td>NaN</td>\n",
       "      <td>NaN</td>\n",
       "      <td>NaN</td>\n",
       "      <td>NaN</td>\n",
       "      <td>NaN</td>\n",
       "    </tr>\n",
       "    <tr>\n",
       "      <th>2</th>\n",
       "      <td>7</td>\n",
       "      <td>PT11M46.00S</td>\n",
       "      <td>2019-12-19T02:41:22.4Z</td>\n",
       "      <td>1</td>\n",
       "      <td>REGULAR</td>\n",
       "      <td>3pt</td>\n",
       "      <td>jumpshot</td>\n",
       "      <td>[]</td>\n",
       "      <td>204001</td>\n",
       "      <td>29.385677</td>\n",
       "      <td>...</td>\n",
       "      <td>NaN</td>\n",
       "      <td>NaN</td>\n",
       "      <td>NaN</td>\n",
       "      <td>NaN</td>\n",
       "      <td>NaN</td>\n",
       "      <td>NaN</td>\n",
       "      <td>NaN</td>\n",
       "      <td>NaN</td>\n",
       "      <td>NaN</td>\n",
       "      <td>NaN</td>\n",
       "    </tr>\n",
       "    <tr>\n",
       "      <th>3</th>\n",
       "      <td>8</td>\n",
       "      <td>PT11M43.00S</td>\n",
       "      <td>2019-12-19T02:41:25.4Z</td>\n",
       "      <td>1</td>\n",
       "      <td>REGULAR</td>\n",
       "      <td>rebound</td>\n",
       "      <td>defensive</td>\n",
       "      <td>[]</td>\n",
       "      <td>1628400</td>\n",
       "      <td>NaN</td>\n",
       "      <td>...</td>\n",
       "      <td>NaN</td>\n",
       "      <td>NaN</td>\n",
       "      <td>NaN</td>\n",
       "      <td>NaN</td>\n",
       "      <td>NaN</td>\n",
       "      <td>NaN</td>\n",
       "      <td>NaN</td>\n",
       "      <td>NaN</td>\n",
       "      <td>NaN</td>\n",
       "      <td>NaN</td>\n",
       "    </tr>\n",
       "    <tr>\n",
       "      <th>4</th>\n",
       "      <td>9</td>\n",
       "      <td>PT11M33.00S</td>\n",
       "      <td>2019-12-19T02:41:34.0Z</td>\n",
       "      <td>1</td>\n",
       "      <td>REGULAR</td>\n",
       "      <td>2pt</td>\n",
       "      <td>jumpshot</td>\n",
       "      <td>[]</td>\n",
       "      <td>1628369</td>\n",
       "      <td>79.582786</td>\n",
       "      <td>...</td>\n",
       "      <td>NaN</td>\n",
       "      <td>NaN</td>\n",
       "      <td>NaN</td>\n",
       "      <td>NaN</td>\n",
       "      <td>NaN</td>\n",
       "      <td>NaN</td>\n",
       "      <td>NaN</td>\n",
       "      <td>NaN</td>\n",
       "      <td>NaN</td>\n",
       "      <td>NaN</td>\n",
       "    </tr>\n",
       "    <tr>\n",
       "      <th>...</th>\n",
       "      <td>...</td>\n",
       "      <td>...</td>\n",
       "      <td>...</td>\n",
       "      <td>...</td>\n",
       "      <td>...</td>\n",
       "      <td>...</td>\n",
       "      <td>...</td>\n",
       "      <td>...</td>\n",
       "      <td>...</td>\n",
       "      <td>...</td>\n",
       "      <td>...</td>\n",
       "      <td>...</td>\n",
       "      <td>...</td>\n",
       "      <td>...</td>\n",
       "      <td>...</td>\n",
       "      <td>...</td>\n",
       "      <td>...</td>\n",
       "      <td>...</td>\n",
       "      <td>...</td>\n",
       "      <td>...</td>\n",
       "      <td>...</td>\n",
       "    </tr>\n",
       "    <tr>\n",
       "      <th>611</th>\n",
       "      <td>698</td>\n",
       "      <td>PT00M16.20S</td>\n",
       "      <td>2019-12-19T05:05:11.2Z</td>\n",
       "      <td>4</td>\n",
       "      <td>REGULAR</td>\n",
       "      <td>freethrow</td>\n",
       "      <td>2of2</td>\n",
       "      <td>[]</td>\n",
       "      <td>1627759</td>\n",
       "      <td>NaN</td>\n",
       "      <td>...</td>\n",
       "      <td>NaN</td>\n",
       "      <td>NaN</td>\n",
       "      <td>NaN</td>\n",
       "      <td>NaN</td>\n",
       "      <td>NaN</td>\n",
       "      <td>NaN</td>\n",
       "      <td>NaN</td>\n",
       "      <td>NaN</td>\n",
       "      <td>NaN</td>\n",
       "      <td>NaN</td>\n",
       "    </tr>\n",
       "    <tr>\n",
       "      <th>612</th>\n",
       "      <td>699</td>\n",
       "      <td>PT00M10.50S</td>\n",
       "      <td>2019-12-19T05:05:25.2Z</td>\n",
       "      <td>4</td>\n",
       "      <td>REGULAR</td>\n",
       "      <td>3pt</td>\n",
       "      <td>jumpshot</td>\n",
       "      <td>[]</td>\n",
       "      <td>203552</td>\n",
       "      <td>74.326544</td>\n",
       "      <td>...</td>\n",
       "      <td>NaN</td>\n",
       "      <td>NaN</td>\n",
       "      <td>NaN</td>\n",
       "      <td>NaN</td>\n",
       "      <td>NaN</td>\n",
       "      <td>NaN</td>\n",
       "      <td>NaN</td>\n",
       "      <td>NaN</td>\n",
       "      <td>NaN</td>\n",
       "      <td>NaN</td>\n",
       "    </tr>\n",
       "    <tr>\n",
       "      <th>613</th>\n",
       "      <td>700</td>\n",
       "      <td>PT00M07.60S</td>\n",
       "      <td>2019-12-19T05:05:28.1Z</td>\n",
       "      <td>4</td>\n",
       "      <td>REGULAR</td>\n",
       "      <td>rebound</td>\n",
       "      <td>defensive</td>\n",
       "      <td>[]</td>\n",
       "      <td>1628369</td>\n",
       "      <td>NaN</td>\n",
       "      <td>...</td>\n",
       "      <td>NaN</td>\n",
       "      <td>NaN</td>\n",
       "      <td>NaN</td>\n",
       "      <td>NaN</td>\n",
       "      <td>NaN</td>\n",
       "      <td>NaN</td>\n",
       "      <td>NaN</td>\n",
       "      <td>NaN</td>\n",
       "      <td>NaN</td>\n",
       "      <td>NaN</td>\n",
       "    </tr>\n",
       "    <tr>\n",
       "      <th>614</th>\n",
       "      <td>701</td>\n",
       "      <td>PT00M00.00S</td>\n",
       "      <td>2019-12-19T05:05:39.7Z</td>\n",
       "      <td>4</td>\n",
       "      <td>REGULAR</td>\n",
       "      <td>period</td>\n",
       "      <td>end</td>\n",
       "      <td>[]</td>\n",
       "      <td>0</td>\n",
       "      <td>NaN</td>\n",
       "      <td>...</td>\n",
       "      <td>NaN</td>\n",
       "      <td>NaN</td>\n",
       "      <td>NaN</td>\n",
       "      <td>NaN</td>\n",
       "      <td>NaN</td>\n",
       "      <td>NaN</td>\n",
       "      <td>NaN</td>\n",
       "      <td>NaN</td>\n",
       "      <td>NaN</td>\n",
       "      <td>NaN</td>\n",
       "    </tr>\n",
       "    <tr>\n",
       "      <th>615</th>\n",
       "      <td>702</td>\n",
       "      <td>PT00M00.00S</td>\n",
       "      <td>2019-12-19T05:05:47.9Z</td>\n",
       "      <td>4</td>\n",
       "      <td>REGULAR</td>\n",
       "      <td>game</td>\n",
       "      <td>end</td>\n",
       "      <td>[]</td>\n",
       "      <td>0</td>\n",
       "      <td>NaN</td>\n",
       "      <td>...</td>\n",
       "      <td>NaN</td>\n",
       "      <td>NaN</td>\n",
       "      <td>NaN</td>\n",
       "      <td>NaN</td>\n",
       "      <td>NaN</td>\n",
       "      <td>NaN</td>\n",
       "      <td>NaN</td>\n",
       "      <td>NaN</td>\n",
       "      <td>NaN</td>\n",
       "      <td>NaN</td>\n",
       "    </tr>\n",
       "  </tbody>\n",
       "</table>\n",
       "<p>616 rows × 54 columns</p>\n",
       "</div>"
      ],
      "text/plain": [
       "     actionNumber        clock              timeActual  period periodType  \\\n",
       "0               2  PT12M00.00S  2019-12-19T02:40:40.4Z       1    REGULAR   \n",
       "1               4  PT11M57.00S  2019-12-19T02:41:10.6Z       1    REGULAR   \n",
       "2               7  PT11M46.00S  2019-12-19T02:41:22.4Z       1    REGULAR   \n",
       "3               8  PT11M43.00S  2019-12-19T02:41:25.4Z       1    REGULAR   \n",
       "4               9  PT11M33.00S  2019-12-19T02:41:34.0Z       1    REGULAR   \n",
       "..            ...          ...                     ...     ...        ...   \n",
       "611           698  PT00M16.20S  2019-12-19T05:05:11.2Z       4    REGULAR   \n",
       "612           699  PT00M10.50S  2019-12-19T05:05:25.2Z       4    REGULAR   \n",
       "613           700  PT00M07.60S  2019-12-19T05:05:28.1Z       4    REGULAR   \n",
       "614           701  PT00M00.00S  2019-12-19T05:05:39.7Z       4    REGULAR   \n",
       "615           702  PT00M00.00S  2019-12-19T05:05:47.9Z       4    REGULAR   \n",
       "\n",
       "    actionType    subType qualifiers  personId          x  ...  assistTotal  \\\n",
       "0       period      start         []         0        NaN  ...          NaN   \n",
       "1     jumpball  recovered         []    203939        NaN  ...          NaN   \n",
       "2          3pt   jumpshot         []    204001  29.385677  ...          NaN   \n",
       "3      rebound  defensive         []   1628400        NaN  ...          NaN   \n",
       "4          2pt   jumpshot         []   1628369  79.582786  ...          NaN   \n",
       "..         ...        ...        ...       ...        ...  ...          ...   \n",
       "611  freethrow       2of2         []   1627759        NaN  ...          NaN   \n",
       "612        3pt   jumpshot         []    203552  74.326544  ...          NaN   \n",
       "613    rebound  defensive         []   1628369        NaN  ...          NaN   \n",
       "614     period        end         []         0        NaN  ...          NaN   \n",
       "615       game        end         []         0        NaN  ...          NaN   \n",
       "\n",
       "     stealPlayerName stealPersonId foulPersonalTotal foulTechnicalTotal  \\\n",
       "0                NaN           NaN               NaN                NaN   \n",
       "1                NaN           NaN               NaN                NaN   \n",
       "2                NaN           NaN               NaN                NaN   \n",
       "3                NaN           NaN               NaN                NaN   \n",
       "4                NaN           NaN               NaN                NaN   \n",
       "..               ...           ...               ...                ...   \n",
       "611              NaN           NaN               NaN                NaN   \n",
       "612              NaN           NaN               NaN                NaN   \n",
       "613              NaN           NaN               NaN                NaN   \n",
       "614              NaN           NaN               NaN                NaN   \n",
       "615              NaN           NaN               NaN                NaN   \n",
       "\n",
       "     foulDrawnPlayerName  foulDrawnPersonId  blockPlayerName  blockPersonId  \\\n",
       "0                    NaN                NaN              NaN            NaN   \n",
       "1                    NaN                NaN              NaN            NaN   \n",
       "2                    NaN                NaN              NaN            NaN   \n",
       "3                    NaN                NaN              NaN            NaN   \n",
       "4                    NaN                NaN              NaN            NaN   \n",
       "..                   ...                ...              ...            ...   \n",
       "611                  NaN                NaN              NaN            NaN   \n",
       "612                  NaN                NaN              NaN            NaN   \n",
       "613                  NaN                NaN              NaN            NaN   \n",
       "614                  NaN                NaN              NaN            NaN   \n",
       "615                  NaN                NaN              NaN            NaN   \n",
       "\n",
       "    value  \n",
       "0     NaN  \n",
       "1     NaN  \n",
       "2     NaN  \n",
       "3     NaN  \n",
       "4     NaN  \n",
       "..    ...  \n",
       "611   NaN  \n",
       "612   NaN  \n",
       "613   NaN  \n",
       "614   NaN  \n",
       "615   NaN  \n",
       "\n",
       "[616 rows x 54 columns]"
      ]
     },
     "execution_count": 29,
     "metadata": {},
     "output_type": "execute_result"
    }
   ],
   "source": [
    "df"
   ]
  },
  {
   "cell_type": "code",
   "execution_count": null,
   "id": "5399c481",
   "metadata": {
    "ExecuteTime": {
     "end_time": "2024-11-19T15:59:08.332052Z",
     "start_time": "2024-11-19T15:59:08.326280Z"
    }
   },
   "outputs": [],
   "source": [
    "pd.set_option(\"display.max_rows\", 200)\n",
    "pd.set_option(\"display.max_columns\", 100)"
   ]
  },
  {
   "cell_type": "code",
   "execution_count": null,
   "id": "9bc6ec41",
   "metadata": {
    "ExecuteTime": {
     "end_time": "2024-11-19T15:59:25.490369Z",
     "start_time": "2024-11-19T15:59:25.468163Z"
    }
   },
   "outputs": [],
   "source": [
    "df.loc[\n",
    "    df[\"actionNumber\"].isin(df.loc[\n",
    "    (df[\"actionType\"]==\"foul\") &\n",
    "    (df[\"subType\"]==\"technical\"),\n",
    "    \"actionNumber\"\n",
    "]+1),]"
   ]
  },
  {
   "cell_type": "code",
   "execution_count": null,
   "id": "851ec79f",
   "metadata": {
    "ExecuteTime": {
     "end_time": "2024-11-19T15:58:59.828039Z",
     "start_time": "2024-11-19T15:58:59.818187Z"
    }
   },
   "outputs": [],
   "source": [
    "len(df.columns)"
   ]
  },
  {
   "cell_type": "code",
   "execution_count": null,
   "id": "1d8705cb",
   "metadata": {
    "ExecuteTime": {
     "end_time": "2024-11-19T15:55:59.601165Z",
     "start_time": "2024-11-19T15:55:59.537925Z"
    },
    "scrolled": true
   },
   "outputs": [],
   "source": [
    "df.head(100)"
   ]
  },
  {
   "cell_type": "code",
   "execution_count": null,
   "id": "e37edf91",
   "metadata": {
    "ExecuteTime": {
     "end_time": "2023-12-16T17:22:41.680668Z",
     "start_time": "2023-12-16T17:22:41.656257Z"
    }
   },
   "outputs": [],
   "source": [
    "df[[\"actionType\", \"shotResult\"]].drop_duplicates().sort_values(\"actionType\")"
   ]
  },
  {
   "cell_type": "code",
   "execution_count": null,
   "id": "5a112f6f",
   "metadata": {
    "ExecuteTime": {
     "end_time": "2023-12-16T17:30:17.141149Z",
     "start_time": "2023-12-16T17:28:29.152615Z"
    },
    "scrolled": true
   },
   "outputs": [],
   "source": [
    "tatum_fts = pd.DataFrame()\n",
    "for g in tatum_games:\n",
    "    try:\n",
    "        df = pd.DataFrame(game.PlayByPlay(game_id=g).get_dict().get(\"game\").get(\"actions\"))\n",
    "        dff = df.loc[\n",
    "            (df[\"actionType\"] == \"freethrow\") &\n",
    "            (df[\"personId\"] == tatum_id),\n",
    "            [\"actionNumber\", \"subType\", \"shotResult\"]\n",
    "        ].assign(gameid=g)\n",
    "        tatum_fts = pd.concat([tatum_fts, dff], axis=0)\n",
    "    except Exception as e:\n",
    "        print(f\"Game ID {g} didn't work\")"
   ]
  },
  {
   "cell_type": "code",
   "execution_count": null,
   "id": "4cceec1b",
   "metadata": {
    "ExecuteTime": {
     "end_time": "2023-12-18T20:00:55.105658Z",
     "start_time": "2023-12-18T20:00:55.072189Z"
    }
   },
   "outputs": [],
   "source": [
    "tatum_fts"
   ]
  },
  {
   "cell_type": "code",
   "execution_count": null,
   "id": "6dc05738",
   "metadata": {
    "ExecuteTime": {
     "end_time": "2023-12-18T20:05:33.464205Z",
     "start_time": "2023-12-18T20:05:33.444567Z"
    }
   },
   "outputs": [],
   "source": [
    "tatum_fts[\"shotResult_int\"]= np.where(tatum_fts[\"shotResult\"]==\"Made\", 1, 0)\n",
    "tatum_fts[\"ft_order\"] = tatum_fts.groupby(\"gameid\")[\"actionNumber\"].rank()"
   ]
  },
  {
   "cell_type": "code",
   "execution_count": null,
   "id": "a4ca2272",
   "metadata": {
    "ExecuteTime": {
     "end_time": "2023-12-18T20:05:34.564940Z",
     "start_time": "2023-12-18T20:05:34.549075Z"
    }
   },
   "outputs": [],
   "source": [
    "len(tatum_fts.gameid.unique())"
   ]
  },
  {
   "cell_type": "code",
   "execution_count": null,
   "id": "c525a0af",
   "metadata": {
    "ExecuteTime": {
     "end_time": "2023-12-20T15:06:41.689911Z",
     "start_time": "2023-12-20T15:06:41.674159Z"
    }
   },
   "outputs": [],
   "source": [
    "tatum_in_sample_avg = tatum_fts[\"shotResult_int\"].sum()/tatum_fts[\"shotResult_int\"].count()\n",
    "print(tatum_in_sample_avg)\n",
    "# 0.8228882833787466"
   ]
  },
  {
   "cell_type": "code",
   "execution_count": null,
   "id": "fe31fd1d",
   "metadata": {
    "ExecuteTime": {
     "end_time": "2023-12-20T15:19:34.114767Z",
     "start_time": "2023-12-20T15:19:34.101983Z"
    }
   },
   "outputs": [],
   "source": [
    "len(tatum_fts[\"gameid\"].unique())"
   ]
  },
  {
   "cell_type": "code",
   "execution_count": null,
   "id": "98d72d84",
   "metadata": {
    "ExecuteTime": {
     "end_time": "2023-12-18T20:07:11.451774Z",
     "start_time": "2023-12-18T20:07:11.435213Z"
    }
   },
   "outputs": [],
   "source": [
    "tatum_fts"
   ]
  },
  {
   "cell_type": "code",
   "execution_count": null,
   "id": "86f512cd",
   "metadata": {
    "ExecuteTime": {
     "end_time": "2023-12-20T15:14:39.438174Z",
     "start_time": "2023-12-20T15:14:39.409435Z"
    }
   },
   "outputs": [],
   "source": [
    "tatum_ft_order_perc = tatum_fts.loc[\n",
    "    tatum_fts[\"ft_order\"] <= 10\n",
    "].groupby(\"ft_order\").agg({\n",
    "    \"shotResult_int\": \"sum\",\n",
    "    \"actionNumber\": \"count\",\n",
    "}).reset_index().assign(\n",
    "    ft_perc=lambda row: row[\"shotResult_int\"]/row[\"actionNumber\"],\n",
    "    in_sample_perc=tatum_in_sample_avg,\n",
    "    diff_from_overall=lambda row: row[\"ft_perc\"] - tatum_in_sample_avg\n",
    ")\n",
    "tatum_ft_order_perc"
   ]
  },
  {
   "cell_type": "code",
   "execution_count": null,
   "id": "66fd22dc",
   "metadata": {
    "ExecuteTime": {
     "end_time": "2023-12-20T15:16:48.396622Z",
     "start_time": "2023-12-20T15:16:48.361944Z"
    }
   },
   "outputs": [],
   "source": [
    "tatum_ft_order_perc = tatum_fts.groupby(\"ft_order\").agg({\n",
    "    \"shotResult_int\": \"sum\",\n",
    "    \"actionNumber\": \"count\",\n",
    "}).reset_index().assign(\n",
    "    ft_perc=lambda row: row[\"shotResult_int\"]/row[\"actionNumber\"],\n",
    "    in_sample_perc=tatum_in_sample_avg,\n",
    "    diff_from_overall=lambda row: row[\"ft_perc\"] - tatum_in_sample_avg\n",
    ")\n",
    "tatum_ft_order_perc"
   ]
  },
  {
   "cell_type": "markdown",
   "id": "6383e6eb",
   "metadata": {},
   "source": [
    "## Top FT Shooters"
   ]
  },
  {
   "cell_type": "code",
   "execution_count": null,
   "id": "4ef28f6d",
   "metadata": {
    "ExecuteTime": {
     "end_time": "2024-11-19T16:54:34.946410Z",
     "start_time": "2024-11-19T16:54:34.926723Z"
    }
   },
   "outputs": [],
   "source": [
    "nba_endpoints.LeagueLeaders.get_available_data()"
   ]
  },
  {
   "cell_type": "markdown",
   "id": "53586410",
   "metadata": {},
   "source": [
    "## Rest of league first FT of the game %"
   ]
  },
  {
   "cell_type": "code",
   "execution_count": null,
   "id": "0d59f01d",
   "metadata": {
    "ExecuteTime": {
     "end_time": "2024-11-19T17:10:54.607421Z",
     "start_time": "2024-11-19T17:10:54.589044Z"
    }
   },
   "outputs": [],
   "source": [
    "seasons"
   ]
  },
  {
   "cell_type": "code",
   "execution_count": null,
   "id": "52420e67",
   "metadata": {
    "ExecuteTime": {
     "end_time": "2024-11-19T17:11:09.064557Z",
     "start_time": "2024-11-19T17:10:56.756485Z"
    }
   },
   "outputs": [],
   "source": [
    "teamlogs = nba_endpoints.teamgamelogs\n",
    "\n",
    "game_ids = []\n",
    "for s in seasons:\n",
    "    game_ids.extend(teamlogs.TeamGameLogs(season_nullable=s).get_data_frames()[0][\"GAME_ID\"])"
   ]
  },
  {
   "cell_type": "code",
   "execution_count": null,
   "id": "3557b6ae",
   "metadata": {
    "ExecuteTime": {
     "end_time": "2024-11-19T17:11:09.161459Z",
     "start_time": "2024-11-19T17:11:09.156013Z"
    }
   },
   "outputs": [],
   "source": [
    "game_ids = set(game_ids)"
   ]
  },
  {
   "cell_type": "code",
   "execution_count": null,
   "id": "95e3db9f",
   "metadata": {
    "ExecuteTime": {
     "end_time": "2024-11-20T15:34:51.585062Z",
     "start_time": "2024-11-20T15:34:51.559121Z"
    }
   },
   "outputs": [],
   "source": [
    "game_ids"
   ]
  },
  {
   "cell_type": "code",
   "execution_count": null,
   "id": "a0777219",
   "metadata": {
    "ExecuteTime": {
     "end_time": "2024-11-19T17:11:09.215575Z",
     "start_time": "2024-11-19T17:11:09.213158Z"
    }
   },
   "outputs": [],
   "source": [
    "len(game_ids)"
   ]
  },
  {
   "cell_type": "code",
   "execution_count": null,
   "id": "ec02399e",
   "metadata": {
    "ExecuteTime": {
     "end_time": "2024-11-20T15:38:10.526100Z",
     "start_time": "2024-11-20T15:38:10.296351Z"
    }
   },
   "outputs": [],
   "source": [
    "df = pd.DataFrame(\n",
    "    nba_endpoints.playbyplayv2.PlayByPlayV2(game_id='0021700469').get_dict().get(\"resultSets\")[0].get(\"rowSet\"),\n",
    "    columns=nba_endpoints.playbyplayv2.PlayByPlayV2(game_id='0021700469').get_dict().get(\"resultSets\")[0].get('headers')\n",
    ")"
   ]
  },
  {
   "cell_type": "code",
   "execution_count": null,
   "id": "6c9bbbb3",
   "metadata": {
    "ExecuteTime": {
     "end_time": "2024-11-20T15:41:02.864664Z",
     "start_time": "2024-11-20T15:41:02.724948Z"
    }
   },
   "outputs": [],
   "source": [
    "nba_endpoints.playbyplay"
   ]
  },
  {
   "cell_type": "code",
   "execution_count": null,
   "id": "1d68f4ed",
   "metadata": {
    "ExecuteTime": {
     "end_time": "2024-11-20T15:38:11.835313Z",
     "start_time": "2024-11-20T15:38:11.807467Z"
    }
   },
   "outputs": [],
   "source": [
    "df"
   ]
  },
  {
   "cell_type": "code",
   "execution_count": null,
   "id": "a7bfb510",
   "metadata": {
    "ExecuteTime": {
     "end_time": "2024-11-20T15:36:52.166304Z",
     "start_time": "2024-11-20T15:36:51.938662Z"
    }
   },
   "outputs": [],
   "source": [
    "df = pd.DataFrame(\n",
    "    nba_endpoints.playbyplay.PlayByPlay(game_id='0021700469').get_dict().get(\"resultSets\")[0].get('rowSet'),\n",
    "    columns=nba_endpoints.playbyplay.PlayByPlay(game_id='0021700469').get_dict().get(\"resultSets\")[0].get('headers')\n",
    ")"
   ]
  },
  {
   "cell_type": "code",
   "execution_count": null,
   "id": "56a42762",
   "metadata": {
    "ExecuteTime": {
     "end_time": "2024-11-20T15:36:52.881274Z",
     "start_time": "2024-11-20T15:36:52.858212Z"
    }
   },
   "outputs": [],
   "source": [
    "df"
   ]
  },
  {
   "cell_type": "code",
   "execution_count": null,
   "id": "3621e0e1",
   "metadata": {
    "ExecuteTime": {
     "end_time": "2024-11-19T19:46:28.099534Z",
     "start_time": "2024-11-19T17:11:47.196426Z"
    },
    "scrolled": true
   },
   "outputs": [],
   "source": [
    "all_fts = pd.DataFrame()\n",
    "for i, g in enumerate(game_ids):\n",
    "    try:\n",
    "        df = pd.DataFrame(game.PlayByPlay(game_id=g).get_dict().get(\"game\").get(\"actions\"))\n",
    "        dff = df.loc[\n",
    "            (df[\"actionType\"] == \"freethrow\"),\n",
    "            [\"actionNumber\", \"period\", \"subType\", \"shotResult\", \"personId\"]\n",
    "        ].assign(gameid=g)\n",
    "        all_fts = pd.concat([all_fts, dff], axis=0)\n",
    "        print(f\"Game {i+1} out of {len(game_ids)} -> COMPLETE\")\n",
    "    except Exception as e:\n",
    "        print(f\"Game {i+1} out of {len(game_ids)} -> DIDN'T WORK -> {e}\")"
   ]
  },
  {
   "cell_type": "code",
   "execution_count": null,
   "id": "73421828",
   "metadata": {
    "ExecuteTime": {
     "end_time": "2024-11-19T19:46:51.810663Z",
     "start_time": "2024-11-19T19:46:51.765038Z"
    }
   },
   "outputs": [],
   "source": [
    "all_fts[\"gameid\"].nunique()"
   ]
  },
  {
   "cell_type": "code",
   "execution_count": null,
   "id": "6e425d50",
   "metadata": {
    "ExecuteTime": {
     "end_time": "2024-11-20T15:25:41.140094Z",
     "start_time": "2024-11-20T15:25:40.985760Z"
    }
   },
   "outputs": [],
   "source": [
    "all_fts[\"ft_order\"] = all_fts.groupby([\"gameid\", \"personId\"])[\"actionNumber\"].rank()\n",
    "all_fts[\"shotResult_int\"]= np.where(all_fts[\"shotResult\"]==\"Made\", 1, 0)"
   ]
  },
  {
   "cell_type": "code",
   "execution_count": null,
   "id": "3d25086b",
   "metadata": {
    "ExecuteTime": {
     "end_time": "2024-11-20T15:25:43.116439Z",
     "start_time": "2024-11-20T15:25:43.087781Z"
    }
   },
   "outputs": [],
   "source": [
    "len(all_fts.gameid.unique())"
   ]
  },
  {
   "cell_type": "code",
   "execution_count": null,
   "id": "4aa00af4",
   "metadata": {
    "ExecuteTime": {
     "end_time": "2024-11-20T15:25:43.983478Z",
     "start_time": "2024-11-20T15:25:43.964144Z"
    }
   },
   "outputs": [],
   "source": [
    "len(all_fts.personId.unique())"
   ]
  },
  {
   "cell_type": "code",
   "execution_count": null,
   "id": "5f68166c",
   "metadata": {
    "ExecuteTime": {
     "end_time": "2024-11-20T15:25:52.226938Z",
     "start_time": "2024-11-20T15:25:52.201029Z"
    }
   },
   "outputs": [],
   "source": [
    "player_ft_perc = all_fts.groupby(\"personId\").agg({\n",
    "    \"shotResult_int\": [\"sum\", \"count\"]\n",
    "}).reset_index()\n",
    "player_ft_perc.columns = [\"personID\", \"makes\", \"attempts\"]\n",
    "player_ft_perc[\"overall_ft_perc\"] = player_ft_perc[\"makes\"]/player_ft_perc[\"attempts\"]"
   ]
  },
  {
   "cell_type": "code",
   "execution_count": null,
   "id": "4bab6bed",
   "metadata": {
    "ExecuteTime": {
     "end_time": "2024-11-20T15:28:20.223926Z",
     "start_time": "2024-11-20T15:28:20.206917Z"
    }
   },
   "outputs": [],
   "source": [
    "player_ft_perc = player_ft_perc.merge(\n",
    "    players[[\"PERSON_ID\", \"PLAYER_FIRST_NAME\", \"PLAYER_LAST_NAME\"]],\n",
    "    left_on=\"personID\",\n",
    "    right_on=\"PERSON_ID\",\n",
    "    how=\"left\"\n",
    ").drop(\"PERSON_ID\", axis=1).sort_values(\"attempts\", ascending=False).reset_index()"
   ]
  },
  {
   "cell_type": "code",
   "execution_count": null,
   "id": "5c56726a",
   "metadata": {
    "ExecuteTime": {
     "end_time": "2024-11-20T15:32:37.158480Z",
     "start_time": "2024-11-20T15:32:37.133998Z"
    }
   },
   "outputs": [],
   "source": [
    "player_ft_perc.head(100)"
   ]
  },
  {
   "cell_type": "code",
   "execution_count": null,
   "id": "ad2c3b6e",
   "metadata": {
    "ExecuteTime": {
     "end_time": "2023-12-20T17:59:12.471503Z",
     "start_time": "2023-12-20T17:59:12.439843Z"
    }
   },
   "outputs": [],
   "source": [
    "per_player_per_order = all_fts.loc[all_fts[\"ft_order\"] <= 15].groupby([\"personId\", \"ft_order\"]).agg({\n",
    "    \"shotResult_int\": \"sum\",\n",
    "    \"actionNumber\": \"count\",\n",
    "}).reset_index()\n",
    "\n",
    "all_fts_long = per_player_per_order.merge(\n",
    "    player_ft_perc[[\"personID\", \"overall_ft_perc\"]],\n",
    "    left_on=\"personId\",\n",
    "    right_on=\"personID\"\n",
    ").assign(\n",
    "    ft_perc=lambda row: row[\"shotResult_int\"]/row[\"actionNumber\"],\n",
    "    diff_from_overall=lambda row: row[\"ft_perc\"] - row[\"overall_ft_perc\"]\n",
    ").merge(\n",
    "    players[[\"PERSON_ID\", \"PLAYER_FIRST_NAME\", \"PLAYER_LAST_NAME\"]],\n",
    "    left_on=\"personId\",\n",
    "    right_on=\"PERSON_ID\",\n",
    "    how=\"left\"\n",
    ").drop(\"PERSON_ID\", axis=1)"
   ]
  },
  {
   "cell_type": "code",
   "execution_count": null,
   "id": "0473b9e7",
   "metadata": {
    "ExecuteTime": {
     "end_time": "2023-12-20T17:59:12.609469Z",
     "start_time": "2023-12-20T17:59:12.602767Z"
    }
   },
   "outputs": [],
   "source": [
    "all_fts_long.sort_values(\"actionNumber\", ascending=False)"
   ]
  },
  {
   "cell_type": "code",
   "execution_count": null,
   "id": "50dde8f4",
   "metadata": {
    "ExecuteTime": {
     "end_time": "2023-12-20T20:26:40.590241Z",
     "start_time": "2023-12-20T20:26:40.567615Z"
    }
   },
   "outputs": [],
   "source": [
    "ft_data = all_fts_long.loc[\n",
    "    all_fts_long[\"personId\"].isin(\n",
    "        all_fts_long.loc[\n",
    "            (all_fts_long[\"ft_order\"]==1) &\n",
    "            (all_fts_long[\"actionNumber\"]>=150) &\n",
    "            (~pd.isnull(all_fts_long[\"PLAYER_FIRST_NAME\"])),\n",
    "            \"personId\"\n",
    "        ]\n",
    "    )\n",
    "]"
   ]
  },
  {
   "cell_type": "code",
   "execution_count": null,
   "id": "2fcb03ac",
   "metadata": {
    "ExecuteTime": {
     "end_time": "2023-12-20T20:26:40.951008Z",
     "start_time": "2023-12-20T20:26:40.943788Z"
    }
   },
   "outputs": [],
   "source": [
    "ft_data"
   ]
  },
  {
   "cell_type": "code",
   "execution_count": null,
   "id": "7c4fa7af",
   "metadata": {
    "ExecuteTime": {
     "end_time": "2023-12-20T20:26:42.652104Z",
     "start_time": "2023-12-20T20:26:42.642219Z"
    }
   },
   "outputs": [],
   "source": [
    "league_in_sample_average = ft_data[\"shotResult_int\"].sum()/ft_data[\"actionNumber\"].sum()\n",
    "print(league_in_sample_average)"
   ]
  },
  {
   "cell_type": "code",
   "execution_count": null,
   "id": "98fe92aa",
   "metadata": {
    "ExecuteTime": {
     "end_time": "2023-12-20T20:26:42.878035Z",
     "start_time": "2023-12-20T20:26:42.875771Z"
    }
   },
   "outputs": [],
   "source": [
    "len(ft_data[\"personId\"].unique())"
   ]
  },
  {
   "cell_type": "code",
   "execution_count": null,
   "id": "d560202d",
   "metadata": {
    "ExecuteTime": {
     "end_time": "2023-12-20T20:26:43.056999Z",
     "start_time": "2023-12-20T20:26:43.053233Z"
    }
   },
   "outputs": [],
   "source": [
    "ft_data.loc[ft_data[\"ft_order\"]==1, \"shotResult_int\"].sum()/ft_data.loc[ft_data[\"ft_order\"]==1, \"actionNumber\"].sum()"
   ]
  },
  {
   "cell_type": "code",
   "execution_count": null,
   "id": "59c34573",
   "metadata": {
    "ExecuteTime": {
     "end_time": "2023-12-20T20:26:43.242086Z",
     "start_time": "2023-12-20T20:26:43.232248Z"
    }
   },
   "outputs": [],
   "source": [
    "for i in range(1,16):\n",
    "    league_average_diff = (\n",
    "        ft_data.loc[ft_data[\"ft_order\"]==i, \"shotResult_int\"].sum()/ft_data.loc[ft_data[\"ft_order\"]==i, \"actionNumber\"].sum() -\n",
    "        ft_data.loc[:, \"shotResult_int\"].sum()/ft_data.loc[:, \"actionNumber\"].sum()\n",
    "    )\n",
    "    print(f\"FT #{i} Diff: {round(league_average_diff,4)}; Total FTs: {ft_data.loc[ft_data['ft_order']==i, 'actionNumber'].sum()}\")"
   ]
  },
  {
   "cell_type": "code",
   "execution_count": null,
   "id": "e8063a5e",
   "metadata": {
    "ExecuteTime": {
     "end_time": "2023-12-20T20:26:43.423130Z",
     "start_time": "2023-12-20T20:26:43.420766Z"
    }
   },
   "outputs": [],
   "source": [
    "league_average_diff = (\n",
    "        ft_data.loc[ft_data[\"ft_order\"]==1, \"shotResult_int\"].sum()/ft_data.loc[ft_data[\"ft_order\"]==1, \"actionNumber\"].sum() -\n",
    "        league_in_sample_average\n",
    "    )"
   ]
  },
  {
   "cell_type": "code",
   "execution_count": null,
   "id": "999c780d",
   "metadata": {
    "ExecuteTime": {
     "end_time": "2023-12-20T20:26:44.811624Z",
     "start_time": "2023-12-20T20:26:44.784285Z"
    }
   },
   "outputs": [],
   "source": [
    "ft_data_pivot = ft_data.assign(\n",
    "    player_name=lambda row: row[\"PLAYER_FIRST_NAME\"] + \" \" + row[\"PLAYER_LAST_NAME\"]\n",
    ").pivot_table(\n",
    "    index=[\"player_name\"],\n",
    "    columns=\"ft_order\",\n",
    "    values=\"diff_from_overall\"\n",
    ").reset_index()"
   ]
  },
  {
   "cell_type": "code",
   "execution_count": null,
   "id": "9cd18003",
   "metadata": {
    "ExecuteTime": {
     "end_time": "2023-12-20T20:26:45.119026Z",
     "start_time": "2023-12-20T20:26:45.107017Z"
    }
   },
   "outputs": [],
   "source": [
    "fig = go.Figure()\n",
    "fig.add_trace(\n",
    "    go.Histogram(\n",
    "        x=ft_data_pivot[1.0],\n",
    "        xbins=dict(size=.01),\n",
    "#         hovertemplate=\"<b>%{x}</b><br>\"\n",
    "#                       \"<b>% Diff</b>: %{y: .1%}\"\n",
    "#                       \"<extra></extra>\",\n",
    "#         marker_color=[\"red\" if p in [\"Andre Drummond\", \"Mitchell Robinson\"] else \"blue\" for p in ft_data_pivot[\"player_name\"]]\n",
    "    )\n",
    ")\n",
    "fig.update_layout(\n",
    "    plot_bgcolor=\"white\",\n",
    ")\n",
    "fig.add_vline(\n",
    "    x=league_average_diff,\n",
    "    line=dict(dash=\"dot\", width=1)\n",
    ")\n",
    "# fig.add_annotation(\n",
    "#     xref=\"paper\",\n",
    "#     x=0.65,\n",
    "#     y=league_average_diff+(league_average_diff*.15),\n",
    "#     showarrow=False,\n",
    "#     text=f\"<b>Group Average Diff: {round(league_average_diff*100,1)}%</b>\",\n",
    "#     font=dict(size=12)\n",
    "# )"
   ]
  },
  {
   "cell_type": "code",
   "execution_count": null,
   "id": "91699f8f",
   "metadata": {
    "ExecuteTime": {
     "end_time": "2023-12-20T20:28:18.965392Z",
     "start_time": "2023-12-20T20:28:18.944324Z"
    }
   },
   "outputs": [],
   "source": [
    "fig = go.Figure()\n",
    "fig.add_trace(\n",
    "    go.Bar(\n",
    "        x=ft_data_pivot[\"player_name\"],\n",
    "        y=ft_data_pivot[1.0],\n",
    "        hovertemplate=\"<b>%{x}</b><br>\"\n",
    "                      \"<b>% Diff</b>: %{y: .1%}\"\n",
    "                      \"<extra></extra>\",\n",
    "#         marker_color=[\"red\" if p in [\"Andre Drummond\", \"Mitchell Robinson\"] else \"blue\" for p in ft_data_pivot[\"player_name\"]]\n",
    "    )\n",
    ")\n",
    "fig.update_layout(\n",
    "    xaxis=dict(\n",
    "        categoryorder=\"total ascending\",\n",
    "        tickangle=-45,\n",
    "        tickfont=dict(size=8)\n",
    "    ),\n",
    "    yaxis=dict(tickformat=\"0%\"),\n",
    "    plot_bgcolor=\"white\",\n",
    "    title=\"NBA Player 'First FT' % vs. Player Average\"\n",
    ")\n",
    "fig.add_hline(\n",
    "    y=league_average_diff,\n",
    "    line=dict(dash=\"dot\", width=1)\n",
    ")\n",
    "fig.add_annotation(\n",
    "    xref=\"paper\",\n",
    "    x=0.65,\n",
    "    y=league_average_diff+(league_average_diff*.15),\n",
    "    showarrow=False,\n",
    "    text=f\"<b>NBA Overall Diff: {round(league_average_diff*100,1)}%</b>\",\n",
    "    font=dict(size=12)\n",
    ")"
   ]
  },
  {
   "cell_type": "code",
   "execution_count": null,
   "id": "6ce2cf20",
   "metadata": {
    "ExecuteTime": {
     "end_time": "2023-12-20T21:10:34.296116Z",
     "start_time": "2023-12-20T21:10:34.257544Z"
    }
   },
   "outputs": [],
   "source": [
    "drummond = ft_data.loc[\n",
    "    (ft_data[\"PLAYER_LAST_NAME\"] == \"Drummond\") &\n",
    "    (ft_data[\"ft_order\"] <= 6)\n",
    "]\n",
    "robinson = ft_data.loc[\n",
    "    (ft_data[\"PLAYER_LAST_NAME\"] == \"Robinson\") &\n",
    "    (ft_data[\"ft_order\"] <= 6)\n",
    "]\n",
    "fig = go.Figure()\n",
    "fig.add_trace(\n",
    "    go.Bar(\n",
    "        y=robinson[\"diff_from_overall\"],\n",
    "        x=robinson[\"ft_order\"],\n",
    "        name=\"Mitchell Robinson\"\n",
    "    )\n",
    ")\n",
    "fig.add_hline(\n",
    "    y=0,\n",
    "    line=dict(dash=\"dot\", width=2, color=\"red\")\n",
    ")\n",
    "fig.update_layout(\n",
    "    yaxis=dict(tickformat=\"0%\"),\n",
    "    plot_bgcolor=\"white\",\n",
    "    title=\"Mitchell Robinson FT% by FT Number in Game\"\n",
    ")"
   ]
  },
  {
   "cell_type": "code",
   "execution_count": null,
   "id": "4d765444",
   "metadata": {
    "ExecuteTime": {
     "end_time": "2023-12-20T21:40:16.268450Z",
     "start_time": "2023-12-20T21:40:16.216111Z"
    },
    "scrolled": false
   },
   "outputs": [],
   "source": [
    "ft_data_pivot.sort_values(1.0, ascending=False).head(10)"
   ]
  },
  {
   "cell_type": "code",
   "execution_count": null,
   "id": "b33ea852",
   "metadata": {
    "ExecuteTime": {
     "end_time": "2023-12-20T20:38:45.188681Z",
     "start_time": "2023-12-20T20:38:45.169891Z"
    }
   },
   "outputs": [],
   "source": [
    "ft_data[\n",
    "    [\"PLAYER_FIRST_NAME\", \"PLAYER_LAST_NAME\", \"overall_ft_perc\"]\n",
    "].drop_duplicates().sort_values(\"overall_ft_perc\").head(10)"
   ]
  },
  {
   "cell_type": "code",
   "execution_count": null,
   "id": "ef2ef38c",
   "metadata": {
    "ExecuteTime": {
     "end_time": "2023-12-20T21:17:18.888405Z",
     "start_time": "2023-12-20T21:17:18.870126Z"
    }
   },
   "outputs": [],
   "source": [
    "ft_data.loc[\n",
    "    (ft_data[\"PLAYER_LAST_NAME\"].isin([\"Drummond\", \"Robinson\", \"Gilgeous-Alexander\", \"Adams\"])) &\n",
    "    (ft_data[\"ft_order\"] == 1)\n",
    "]"
   ]
  },
  {
   "cell_type": "markdown",
   "id": "d540462b",
   "metadata": {},
   "source": [
    "## FT Consistency"
   ]
  },
  {
   "cell_type": "code",
   "execution_count": null,
   "id": "7f78fa89",
   "metadata": {
    "ExecuteTime": {
     "end_time": "2023-12-20T21:15:07.435089Z",
     "start_time": "2023-12-20T21:15:07.421135Z"
    }
   },
   "outputs": [],
   "source": [
    "ft_data.loc[:, \"diff_abs_val\"] = ft_data.loc[:, \"diff_from_overall\"].abs()"
   ]
  },
  {
   "cell_type": "code",
   "execution_count": null,
   "id": "3e2fb25e",
   "metadata": {
    "ExecuteTime": {
     "end_time": "2023-12-20T21:17:23.267338Z",
     "start_time": "2023-12-20T21:17:23.245526Z"
    }
   },
   "outputs": [],
   "source": [
    "ft_consistency = ft_data.merge(\n",
    "    ft_data.loc[ft_data[\"ft_order\"] <= 5].groupby(\"personId\").agg({\n",
    "        \"diff_abs_val\": \"mean\"\n",
    "    }).reset_index().rename(columns={\"diff_abs_val\": \"MAE\"}),\n",
    "    on=\"personId\"\n",
    ")"
   ]
  },
  {
   "cell_type": "code",
   "execution_count": null,
   "id": "290b6637",
   "metadata": {
    "ExecuteTime": {
     "end_time": "2023-12-20T21:45:01.775625Z",
     "start_time": "2023-12-20T21:45:01.748617Z"
    }
   },
   "outputs": [],
   "source": [
    "ft_consistency[\n",
    "    [\"PLAYER_FIRST_NAME\",\"PLAYER_LAST_NAME\", \"MAE\", \"overall_ft_perc\"]\n",
    "].drop_duplicates().sort_values(\"MAE\", ascending=True).head(10)"
   ]
  },
  {
   "cell_type": "markdown",
   "id": "f39bcad6",
   "metadata": {},
   "source": [
    "## Front end and back end of pair of FTs"
   ]
  },
  {
   "cell_type": "code",
   "execution_count": null,
   "id": "91014145",
   "metadata": {
    "ExecuteTime": {
     "end_time": "2023-12-20T21:17:57.358624Z",
     "start_time": "2023-12-20T21:17:57.165904Z"
    }
   },
   "outputs": [],
   "source": [
    "back_end_front_end_fts = all_fts.loc[all_fts[\"subType\"].str.contains(\"2$\", regex=True)].groupby([\"personId\", \"subType\"]).agg({\n",
    "    \"shotResult_int\": \"sum\",\n",
    "    \"actionNumber\": \"count\"\n",
    "}).reset_index().assign(\n",
    "    subType=lambda row: np.where(row[\"subType\"].str.contains(\"^1\", regex=True), \"1 of 2\", \"2 of 2\")\n",
    ").groupby([\"personId\", \"subType\"]).agg({\n",
    "    \"shotResult_int\": \"sum\",\n",
    "    \"actionNumber\": \"sum\"\n",
    "}).reset_index().assign(\n",
    "    ft_perc=lambda row: row[\"shotResult_int\"]/row[\"actionNumber\"]\n",
    ")"
   ]
  },
  {
   "cell_type": "code",
   "execution_count": null,
   "id": "5e5cb2a5",
   "metadata": {
    "ExecuteTime": {
     "end_time": "2023-12-20T21:17:57.903126Z",
     "start_time": "2023-12-20T21:17:57.861824Z"
    }
   },
   "outputs": [],
   "source": [
    "back_end_front_end_fts.groupby(\"subType\").agg({\n",
    "    \"shotResult_int\": \"sum\",\n",
    "    \"actionNumber\": \"sum\"\n",
    "}).reset_index().assign(\n",
    "    ft_perc=lambda row: row[\"shotResult_int\"]/row[\"actionNumber\"]\n",
    ")"
   ]
  },
  {
   "cell_type": "code",
   "execution_count": null,
   "id": "3262c18d",
   "metadata": {
    "ExecuteTime": {
     "end_time": "2023-12-20T21:18:01.717416Z",
     "start_time": "2023-12-20T21:18:01.695626Z"
    }
   },
   "outputs": [],
   "source": [
    "back_end_front_end_pivot = back_end_front_end_fts.pivot_table(\n",
    "    index=\"personId\",\n",
    "    columns=\"subType\",\n",
    "    values=\"ft_perc\",\n",
    "    aggfunc=\"max\"\n",
    ").reset_index()"
   ]
  },
  {
   "cell_type": "code",
   "execution_count": null,
   "id": "148e6ccd",
   "metadata": {
    "ExecuteTime": {
     "end_time": "2023-12-20T21:18:02.363334Z",
     "start_time": "2023-12-20T21:18:02.308845Z"
    }
   },
   "outputs": [],
   "source": [
    "back_end_front_end = back_end_front_end_pivot.merge(\n",
    "    all_fts.groupby(\"personId\").agg({\n",
    "        \"shotResult_int\": \"sum\",\n",
    "        \"actionNumber\": \"count\"\n",
    "    }).reset_index().assign(\n",
    "        ft_perc=lambda row: row[\"shotResult_int\"]/row[\"actionNumber\"],\n",
    "    ),\n",
    "    on=\"personId\"\n",
    ").rename(columns={\n",
    "    \"shotResult_int\": \"FTM\",\n",
    "    \"actionNumber\": \"FTA\"\n",
    "}).merge(\n",
    "    back_end_front_end_fts.groupby(\"personId\").agg({\n",
    "        \"shotResult_int\": \"sum\",\n",
    "        \"actionNumber\": \"sum\"\n",
    "    }).reset_index().assign(\n",
    "        ft_perc_when_shooting_two=lambda row: row[\"shotResult_int\"]/row[\"actionNumber\"],\n",
    "    ),\n",
    "    on=\"personId\"\n",
    ").rename(columns={\n",
    "    \"shotResult_int\": \"FTM_when_shooting_two\",\n",
    "    \"actionNumber\": \"FTA_when_shooting_two\"\n",
    "}).merge(\n",
    "    players[[\"PERSON_ID\", \"PLAYER_FIRST_NAME\", \"PLAYER_LAST_NAME\"]],\n",
    "    left_on=\"personId\",\n",
    "    right_on=\"PERSON_ID\",\n",
    "    how=\"left\"\n",
    ").drop(\"PERSON_ID\", axis=1).assign(\n",
    "    player_name=lambda row: row[\"PLAYER_FIRST_NAME\"] + \" \" + row[\"PLAYER_LAST_NAME\"]\n",
    ").drop([\"PLAYER_FIRST_NAME\",\"PLAYER_LAST_NAME\"], axis=1)[[\n",
    "    \"personId\", \"player_name\", \"ft_perc\", \"ft_perc_when_shooting_two\", \n",
    "    \"1 of 2\", \"2 of 2\", \"FTM\", \"FTA\", \"FTM_when_shooting_two\", \"FTA_when_shooting_two\"\n",
    "]]"
   ]
  },
  {
   "cell_type": "code",
   "execution_count": null,
   "id": "7a5a4ad9",
   "metadata": {
    "ExecuteTime": {
     "end_time": "2023-12-20T21:18:03.127565Z",
     "start_time": "2023-12-20T21:18:03.114936Z"
    }
   },
   "outputs": [],
   "source": [
    "back_end_front_end = back_end_front_end.loc[~pd.isnull(back_end_front_end[\"player_name\"])].sort_values(\"FTA\", ascending=False).head(200)"
   ]
  },
  {
   "cell_type": "code",
   "execution_count": null,
   "id": "8a700b87",
   "metadata": {
    "ExecuteTime": {
     "end_time": "2023-12-20T21:18:03.911056Z",
     "start_time": "2023-12-20T21:18:03.899088Z"
    }
   },
   "outputs": [],
   "source": [
    "back_end_front_end[\"1 of 2 diff from 2 of 2\"] = back_end_front_end[\"1 of 2\"] - back_end_front_end[\"2 of 2\"]\n",
    "back_end_front_end[\"1 of 2 diff from overall\"] = back_end_front_end[\"1 of 2\"] - back_end_front_end[\"ft_perc_when_shooting_two\"]\n",
    "back_end_front_end[\"2 of 2 diff from overall\"] = back_end_front_end[\"2 of 2\"] - back_end_front_end[\"ft_perc_when_shooting_two\"]"
   ]
  },
  {
   "cell_type": "code",
   "execution_count": null,
   "id": "6b132e3c",
   "metadata": {
    "ExecuteTime": {
     "end_time": "2023-12-20T21:18:04.464729Z",
     "start_time": "2023-12-20T21:18:04.440823Z"
    }
   },
   "outputs": [],
   "source": [
    "back_end_front_end.sort_values(\"1 of 2 diff from 2 of 2\").head()"
   ]
  },
  {
   "cell_type": "code",
   "execution_count": null,
   "id": "0ffcfc03",
   "metadata": {
    "ExecuteTime": {
     "end_time": "2023-12-20T21:18:11.466872Z",
     "start_time": "2023-12-20T21:18:11.450537Z"
    }
   },
   "outputs": [],
   "source": [
    "back_front_league_average_diff = back_end_front_end_fts.groupby(\"subType\").agg({\n",
    "    \"shotResult_int\": \"sum\",\n",
    "    \"actionNumber\": \"sum\"\n",
    "}).reset_index().assign(\n",
    "    ft_perc=lambda row: row[\"shotResult_int\"]/row[\"actionNumber\"]\n",
    ")[\"ft_perc\"][0] - back_end_front_end_fts.groupby(\"subType\").agg({\n",
    "    \"shotResult_int\": \"sum\",\n",
    "    \"actionNumber\": \"sum\"\n",
    "}).reset_index().assign(\n",
    "    ft_perc=lambda row: row[\"shotResult_int\"]/row[\"actionNumber\"]\n",
    ")[\"ft_perc\"][1]"
   ]
  },
  {
   "cell_type": "code",
   "execution_count": null,
   "id": "7eaa1b9a",
   "metadata": {
    "ExecuteTime": {
     "end_time": "2023-12-20T21:18:12.081591Z",
     "start_time": "2023-12-20T21:18:12.058190Z"
    }
   },
   "outputs": [],
   "source": [
    "fig = go.Figure()\n",
    "fig.add_trace(\n",
    "    go.Bar(\n",
    "        x=back_end_front_end[\"player_name\"],\n",
    "        y=back_end_front_end[\"1 of 2 diff from 2 of 2\"],\n",
    "        hovertemplate=\"<b>%{x}</b><br>\"\n",
    "                      \"<b>% Diff</b>: %{y: .1%}\"\n",
    "                      \"<extra></extra>\",\n",
    "#         marker_color=[\"red\" if p in [\"Andre Drummond\", \"Mitchell Robinson\"] else \"blue\" for p in ft_data_pivot[\"player_name\"]]\n",
    "    )\n",
    ")\n",
    "fig.update_layout(\n",
    "    xaxis=dict(\n",
    "        categoryorder=\"total ascending\",\n",
    "        tickangle=-45,\n",
    "        tickfont=dict(size=8)\n",
    "    ),\n",
    "    yaxis=dict(tickformat=\"0%\"),\n",
    "    plot_bgcolor=\"white\",\n",
    ")\n",
    "fig.add_hline(\n",
    "    y=back_front_league_average_diff,\n",
    "    line=dict(dash=\"dot\", width=1)\n",
    ")\n",
    "fig.add_annotation(\n",
    "    xref=\"paper\",\n",
    "    x=0.65,\n",
    "    y=back_front_league_average_diff+(back_front_league_average_diff*.15),\n",
    "    showarrow=False,\n",
    "    text=f\"<b>Group Average Diff: {round(back_front_league_average_diff*100,1)}%</b>\",\n",
    "    font=dict(size=12)\n",
    ")"
   ]
  },
  {
   "cell_type": "code",
   "execution_count": null,
   "id": "f92dd487",
   "metadata": {},
   "outputs": [],
   "source": []
  }
 ],
 "metadata": {
  "kernelspec": {
   "display_name": "Python 3 (ipykernel)",
   "language": "python",
   "name": "python3"
  },
  "language_info": {
   "codemirror_mode": {
    "name": "ipython",
    "version": 3
   },
   "file_extension": ".py",
   "mimetype": "text/x-python",
   "name": "python",
   "nbconvert_exporter": "python",
   "pygments_lexer": "ipython3",
   "version": "3.10.5"
  },
  "toc": {
   "base_numbering": 1,
   "nav_menu": {},
   "number_sections": true,
   "sideBar": true,
   "skip_h1_title": false,
   "title_cell": "Table of Contents",
   "title_sidebar": "Contents",
   "toc_cell": false,
   "toc_position": {
    "height": "calc(100% - 180px)",
    "left": "10px",
    "top": "150px",
    "width": "307px"
   },
   "toc_section_display": true,
   "toc_window_display": true
  },
  "varInspector": {
   "cols": {
    "lenName": 16,
    "lenType": 16,
    "lenVar": 40
   },
   "kernels_config": {
    "python": {
     "delete_cmd_postfix": "",
     "delete_cmd_prefix": "del ",
     "library": "var_list.py",
     "varRefreshCmd": "print(var_dic_list())"
    },
    "r": {
     "delete_cmd_postfix": ") ",
     "delete_cmd_prefix": "rm(",
     "library": "var_list.r",
     "varRefreshCmd": "cat(var_dic_list()) "
    }
   },
   "oldHeight": 846.852,
   "position": {
    "height": "40px",
    "left": "1847px",
    "right": "20px",
    "top": "120px",
    "width": "367px"
   },
   "types_to_exclude": [
    "module",
    "function",
    "builtin_function_or_method",
    "instance",
    "_Feature"
   ],
   "varInspector_section_display": "none",
   "window_display": false
  }
 },
 "nbformat": 4,
 "nbformat_minor": 5
}
