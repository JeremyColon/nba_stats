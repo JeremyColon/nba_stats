{
 "cells": [
  {
   "cell_type": "code",
   "execution_count": 254,
   "id": "fcf383e0",
   "metadata": {
    "ExecuteTime": {
     "end_time": "2025-04-24T21:28:41.639385Z",
     "start_time": "2025-04-24T21:28:41.629530Z"
    }
   },
   "outputs": [],
   "source": [
    "import pandas as pd\n",
    "import numpy as np\n",
    "from nba_api.stats import endpoints as nba_endpoints\n",
    "from nba_api.live.nba import endpoints as nba_live_endpoints\n",
    "import plotly.graph_objects as go\n",
    "import plotly.io as pio\n",
    "from tqdm.notebook import tqdm, trange\n",
    "from pprint import pprint\n",
    "from math import floor, ceil"
   ]
  },
  {
   "cell_type": "code",
   "execution_count": 2,
   "id": "af94d252",
   "metadata": {
    "ExecuteTime": {
     "end_time": "2025-04-24T18:14:31.414639Z",
     "start_time": "2025-04-24T18:14:31.224846Z"
    }
   },
   "outputs": [],
   "source": [
    "pd.set_option(\"display.max_rows\", 200)\n",
    "pd.set_option(\"display.max_columns\", 500)\n",
    "pio.renderers.default = 'iframe' "
   ]
  },
  {
   "cell_type": "markdown",
   "id": "e73638ee",
   "metadata": {},
   "source": [
    "# Data Ingestion"
   ]
  },
  {
   "cell_type": "code",
   "execution_count": 3,
   "id": "f68b5627",
   "metadata": {
    "ExecuteTime": {
     "end_time": "2025-04-24T18:14:44.585289Z",
     "start_time": "2025-04-24T18:14:44.568763Z"
    }
   },
   "outputs": [],
   "source": [
    "seasons = [\n",
    "    f\"{x}-{(x+1)-2000}\" for x in range(int(2023),2025)\n",
    "]"
   ]
  },
  {
   "cell_type": "markdown",
   "id": "e7451ce5",
   "metadata": {},
   "source": [
    "## Teams"
   ]
  },
  {
   "cell_type": "code",
   "execution_count": 4,
   "id": "5883a6b6",
   "metadata": {
    "ExecuteTime": {
     "end_time": "2025-04-24T18:14:47.640370Z",
     "start_time": "2025-04-24T18:14:47.092414Z"
    }
   },
   "outputs": [],
   "source": [
    "teams = nba_endpoints.commonteamyears.CommonTeamYears().get_data_frames()[0][[\"TEAM_ID\", \"ABBREVIATION\"]]"
   ]
  },
  {
   "cell_type": "markdown",
   "id": "75959f10",
   "metadata": {},
   "source": [
    "## Games"
   ]
  },
  {
   "cell_type": "code",
   "execution_count": 6,
   "id": "52420e67",
   "metadata": {
    "ExecuteTime": {
     "end_time": "2025-04-24T18:15:05.537422Z",
     "start_time": "2025-04-24T18:15:02.242287Z"
    }
   },
   "outputs": [
    {
     "data": {
      "application/vnd.jupyter.widget-view+json": {
       "model_id": "944e2e3678084f3190bef8fdec3d2334",
       "version_major": 2,
       "version_minor": 0
      },
      "text/plain": [
       "  0%|          | 0/2 [00:00<?, ?it/s]"
      ]
     },
     "metadata": {},
     "output_type": "display_data"
    }
   ],
   "source": [
    "teamlogs = nba_endpoints.teamgamelogs\n",
    "\n",
    "games = pd.DataFrame()\n",
    "for s in tqdm(seasons):\n",
    "    games = pd.concat(\n",
    "        [\n",
    "            games,\n",
    "            teamlogs.TeamGameLogs(season_nullable=s).get_data_frames()[0]\n",
    "        ]\n",
    "    )\n",
    "game_ids = games[\"GAME_ID\"]"
   ]
  },
  {
   "cell_type": "code",
   "execution_count": 7,
   "id": "3557b6ae",
   "metadata": {
    "ExecuteTime": {
     "end_time": "2025-04-24T18:15:05.561134Z",
     "start_time": "2025-04-24T18:15:05.557977Z"
    }
   },
   "outputs": [],
   "source": [
    "game_ids = list(set(game_ids))"
   ]
  },
  {
   "cell_type": "code",
   "execution_count": 8,
   "id": "96e38788",
   "metadata": {
    "ExecuteTime": {
     "end_time": "2025-04-24T18:15:06.058880Z",
     "start_time": "2025-04-24T18:15:06.049026Z"
    }
   },
   "outputs": [
    {
     "data": {
      "text/plain": [
       "2460"
      ]
     },
     "execution_count": 8,
     "metadata": {},
     "output_type": "execute_result"
    }
   ],
   "source": [
    "len(game_ids)"
   ]
  },
  {
   "cell_type": "markdown",
   "id": "53586410",
   "metadata": {},
   "source": [
    "## All Plays"
   ]
  },
  {
   "cell_type": "code",
   "execution_count": 250,
   "id": "3621e0e1",
   "metadata": {
    "ExecuteTime": {
     "end_time": "2025-04-14T16:02:34.516850Z",
     "start_time": "2025-04-14T15:46:52.822054Z"
    },
    "scrolled": true
   },
   "outputs": [
    {
     "data": {
      "application/vnd.jupyter.widget-view+json": {
       "model_id": "542ee2e8a92b453abf9bb796b540da73",
       "version_major": 2,
       "version_minor": 0
      },
      "text/plain": [
       "  0%|          | 0/2460 [00:00<?, ?it/s]"
      ]
     },
     "metadata": {},
     "output_type": "display_data"
    },
    {
     "name": "stdout",
     "output_type": "stream",
     "text": [
      "0\n",
      "100\n",
      "200\n",
      "300\n",
      "400\n",
      "500\n",
      "600\n",
      "700\n",
      "800\n",
      "900\n",
      "1000\n",
      "1100\n",
      "1200\n",
      "1300\n",
      "1400\n",
      "1500\n",
      "1600\n",
      "1700\n",
      "1800\n",
      "1900\n",
      "2000\n",
      "2100\n",
      "2200\n",
      "2300\n",
      "2400\n"
     ]
    }
   ],
   "source": [
    "all_plays = pd.DataFrame()\n",
    "for i in tqdm(range(len(game_ids))):\n",
    "    print(i) if i%100 == 0 else None\n",
    "    g = game_ids[i]\n",
    "    try:\n",
    "        df = pd.DataFrame(\n",
    "            nba_endpoints.PlayByPlayV3(game_id=g).get_dict().get(\"game\").get(\"actions\")\n",
    "        )\n",
    "        df['scoreHome'] = np.where(df['scoreHome'] == '', np.NaN, df['scoreHome']).astype(float)\n",
    "        df['scoreAway'] = np.where(df['scoreAway'] == '', np.NaN, df['scoreAway']).astype(float)\n",
    "        dff = df.assign(\n",
    "            game_id=g,\n",
    "            point_diff=lambda row: row['scoreHome'] - row['scoreAway']\n",
    "        )\n",
    "        all_plays = pd.concat([all_plays, dff], axis=0)\n",
    "    except Exception as e:\n",
    "        print(f\"ERROR: Game {i+1} out of {len(game_ids)} -> {e}\")"
   ]
  },
  {
   "cell_type": "code",
   "execution_count": 251,
   "id": "30085ce2",
   "metadata": {
    "ExecuteTime": {
     "end_time": "2025-04-14T16:02:35.457003Z",
     "start_time": "2025-04-14T16:02:35.415016Z"
    }
   },
   "outputs": [
    {
     "data": {
      "text/plain": [
       "2460"
      ]
     },
     "execution_count": 251,
     "metadata": {},
     "output_type": "execute_result"
    }
   ],
   "source": [
    "all_plays.game_id.nunique()"
   ]
  },
  {
   "cell_type": "code",
   "execution_count": 252,
   "id": "af5f63d3",
   "metadata": {
    "ExecuteTime": {
     "end_time": "2025-04-14T16:04:13.440635Z",
     "start_time": "2025-04-14T16:04:11.828042Z"
    }
   },
   "outputs": [],
   "source": [
    "all_plays.to_parquet(\"all_plays.parquet\")"
   ]
  },
  {
   "cell_type": "code",
   "execution_count": 5,
   "id": "714da591",
   "metadata": {
    "ExecuteTime": {
     "end_time": "2025-04-24T18:14:57.824845Z",
     "start_time": "2025-04-24T18:14:56.826734Z"
    }
   },
   "outputs": [],
   "source": [
    "all_plays = pd.read_parquet(\"all_plays.parquet\")"
   ]
  },
  {
   "cell_type": "markdown",
   "id": "662bf93b",
   "metadata": {},
   "source": [
    "# Feature Engineering"
   ]
  },
  {
   "cell_type": "markdown",
   "id": "329714f4",
   "metadata": {},
   "source": [
    "## Home & Away Teams"
   ]
  },
  {
   "cell_type": "code",
   "execution_count": 10,
   "id": "e171a2f8",
   "metadata": {
    "ExecuteTime": {
     "end_time": "2025-04-24T18:15:16.995522Z",
     "start_time": "2025-04-24T18:15:16.969545Z"
    }
   },
   "outputs": [],
   "source": [
    "games[\"home\"] = games[\"MATCHUP\"].str.contains(\"vs.\")\n",
    "games[\"team_1\"] = games[\"MATCHUP\"].str.extract(\"(^[A-Z]{3})\")\n",
    "games[\"team_2\"] = games[\"MATCHUP\"].str.extract(\"([A-Z]{3}$)\")"
   ]
  },
  {
   "cell_type": "code",
   "execution_count": 11,
   "id": "f0381b38",
   "metadata": {
    "ExecuteTime": {
     "end_time": "2025-04-24T18:15:17.184590Z",
     "start_time": "2025-04-24T18:15:17.174567Z"
    }
   },
   "outputs": [],
   "source": [
    "games[\"home_team\"] = np.where(\n",
    "    games[\"home\"] == True,\n",
    "    games[\"team_1\"],\n",
    "    games[\"team_2\"]\n",
    ")\n",
    "games[\"away_team\"] = np.where(\n",
    "    games[\"home\"] == True,\n",
    "    games[\"team_2\"],\n",
    "    games[\"team_1\"]\n",
    ")"
   ]
  },
  {
   "cell_type": "code",
   "execution_count": 12,
   "id": "ab09a76d",
   "metadata": {
    "ExecuteTime": {
     "end_time": "2025-04-24T18:15:18.179469Z",
     "start_time": "2025-04-24T18:15:18.161365Z"
    }
   },
   "outputs": [
    {
     "data": {
      "text/html": [
       "<div>\n",
       "<style scoped>\n",
       "    .dataframe tbody tr th:only-of-type {\n",
       "        vertical-align: middle;\n",
       "    }\n",
       "\n",
       "    .dataframe tbody tr th {\n",
       "        vertical-align: top;\n",
       "    }\n",
       "\n",
       "    .dataframe thead th {\n",
       "        text-align: right;\n",
       "    }\n",
       "</style>\n",
       "<table border=\"1\" class=\"dataframe\">\n",
       "  <thead>\n",
       "    <tr style=\"text-align: right;\">\n",
       "      <th></th>\n",
       "      <th>MATCHUP</th>\n",
       "      <th>home_team</th>\n",
       "      <th>away_team</th>\n",
       "    </tr>\n",
       "  </thead>\n",
       "  <tbody>\n",
       "    <tr>\n",
       "      <th>0</th>\n",
       "      <td>SAS vs. DET</td>\n",
       "      <td>SAS</td>\n",
       "      <td>DET</td>\n",
       "    </tr>\n",
       "    <tr>\n",
       "      <th>1</th>\n",
       "      <td>UTA @ GSW</td>\n",
       "      <td>GSW</td>\n",
       "      <td>UTA</td>\n",
       "    </tr>\n",
       "    <tr>\n",
       "      <th>2</th>\n",
       "      <td>WAS @ BOS</td>\n",
       "      <td>BOS</td>\n",
       "      <td>WAS</td>\n",
       "    </tr>\n",
       "    <tr>\n",
       "      <th>3</th>\n",
       "      <td>PHX @ MIN</td>\n",
       "      <td>MIN</td>\n",
       "      <td>PHX</td>\n",
       "    </tr>\n",
       "    <tr>\n",
       "      <th>4</th>\n",
       "      <td>LAL @ NOP</td>\n",
       "      <td>NOP</td>\n",
       "      <td>LAL</td>\n",
       "    </tr>\n",
       "    <tr>\n",
       "      <th>...</th>\n",
       "      <td>...</td>\n",
       "      <td>...</td>\n",
       "      <td>...</td>\n",
       "    </tr>\n",
       "    <tr>\n",
       "      <th>2455</th>\n",
       "      <td>GSW @ POR</td>\n",
       "      <td>POR</td>\n",
       "      <td>GSW</td>\n",
       "    </tr>\n",
       "    <tr>\n",
       "      <th>2456</th>\n",
       "      <td>LAL vs. MIN</td>\n",
       "      <td>LAL</td>\n",
       "      <td>MIN</td>\n",
       "    </tr>\n",
       "    <tr>\n",
       "      <th>2457</th>\n",
       "      <td>MIN @ LAL</td>\n",
       "      <td>LAL</td>\n",
       "      <td>MIN</td>\n",
       "    </tr>\n",
       "    <tr>\n",
       "      <th>2458</th>\n",
       "      <td>NYK @ BOS</td>\n",
       "      <td>BOS</td>\n",
       "      <td>NYK</td>\n",
       "    </tr>\n",
       "    <tr>\n",
       "      <th>2459</th>\n",
       "      <td>BOS vs. NYK</td>\n",
       "      <td>BOS</td>\n",
       "      <td>NYK</td>\n",
       "    </tr>\n",
       "  </tbody>\n",
       "</table>\n",
       "<p>4920 rows × 3 columns</p>\n",
       "</div>"
      ],
      "text/plain": [
       "          MATCHUP home_team away_team\n",
       "0     SAS vs. DET       SAS       DET\n",
       "1       UTA @ GSW       GSW       UTA\n",
       "2       WAS @ BOS       BOS       WAS\n",
       "3       PHX @ MIN       MIN       PHX\n",
       "4       LAL @ NOP       NOP       LAL\n",
       "...           ...       ...       ...\n",
       "2455    GSW @ POR       POR       GSW\n",
       "2456  LAL vs. MIN       LAL       MIN\n",
       "2457    MIN @ LAL       LAL       MIN\n",
       "2458    NYK @ BOS       BOS       NYK\n",
       "2459  BOS vs. NYK       BOS       NYK\n",
       "\n",
       "[4920 rows x 3 columns]"
      ]
     },
     "execution_count": 12,
     "metadata": {},
     "output_type": "execute_result"
    }
   ],
   "source": [
    "games[[\"MATCHUP\", \"home_team\", \"away_team\"]]"
   ]
  },
  {
   "cell_type": "markdown",
   "id": "7bdbf03e",
   "metadata": {},
   "source": [
    "## Seconds Elapsed"
   ]
  },
  {
   "cell_type": "code",
   "execution_count": 13,
   "id": "3f0580b9",
   "metadata": {
    "ExecuteTime": {
     "end_time": "2025-04-24T18:15:22.949834Z",
     "start_time": "2025-04-24T18:15:20.289959Z"
    }
   },
   "outputs": [],
   "source": [
    "all_plays[\"minutes\"] = all_plays[\"clock\"].str.extract(\n",
    "    \"[PT]{2}([0-9]{2})M([0-9]{2}).[0-9]{2}S\")[0].astype(int)\n",
    "all_plays[\"seconds\"] = all_plays[\"clock\"].str.extract(\n",
    "    \"[PT]{2}([0-9]{2})M([0-9]{2}).[0-9]{2}S\")[1].astype(int)\n",
    "all_plays[\"seconds_elapsed\"] = ((all_plays[\"period\"].astype(int)-1)*12*60) + \\\n",
    "    ((np.where(all_plays[\"period\"]==5,5,12)*60)-(((all_plays[\"minutes\"])*60)+all_plays[\"seconds\"]))"
   ]
  },
  {
   "cell_type": "code",
   "execution_count": 14,
   "id": "271bada9",
   "metadata": {
    "ExecuteTime": {
     "end_time": "2025-04-24T18:15:22.985750Z",
     "start_time": "2025-04-24T18:15:22.968387Z"
    }
   },
   "outputs": [
    {
     "data": {
      "text/html": [
       "<div>\n",
       "<style scoped>\n",
       "    .dataframe tbody tr th:only-of-type {\n",
       "        vertical-align: middle;\n",
       "    }\n",
       "\n",
       "    .dataframe tbody tr th {\n",
       "        vertical-align: top;\n",
       "    }\n",
       "\n",
       "    .dataframe thead th {\n",
       "        text-align: right;\n",
       "    }\n",
       "</style>\n",
       "<table border=\"1\" class=\"dataframe\">\n",
       "  <thead>\n",
       "    <tr style=\"text-align: right;\">\n",
       "      <th></th>\n",
       "      <th>clock</th>\n",
       "      <th>minutes</th>\n",
       "      <th>seconds</th>\n",
       "      <th>seconds_elapsed</th>\n",
       "    </tr>\n",
       "  </thead>\n",
       "  <tbody>\n",
       "    <tr>\n",
       "      <th>0</th>\n",
       "      <td>PT12M00.00S</td>\n",
       "      <td>12</td>\n",
       "      <td>0</td>\n",
       "      <td>0</td>\n",
       "    </tr>\n",
       "    <tr>\n",
       "      <th>1</th>\n",
       "      <td>PT12M00.00S</td>\n",
       "      <td>12</td>\n",
       "      <td>0</td>\n",
       "      <td>0</td>\n",
       "    </tr>\n",
       "    <tr>\n",
       "      <th>2</th>\n",
       "      <td>PT11M43.00S</td>\n",
       "      <td>11</td>\n",
       "      <td>43</td>\n",
       "      <td>17</td>\n",
       "    </tr>\n",
       "    <tr>\n",
       "      <th>3</th>\n",
       "      <td>PT11M33.00S</td>\n",
       "      <td>11</td>\n",
       "      <td>33</td>\n",
       "      <td>27</td>\n",
       "    </tr>\n",
       "    <tr>\n",
       "      <th>4</th>\n",
       "      <td>PT11M23.00S</td>\n",
       "      <td>11</td>\n",
       "      <td>23</td>\n",
       "      <td>37</td>\n",
       "    </tr>\n",
       "    <tr>\n",
       "      <th>...</th>\n",
       "      <td>...</td>\n",
       "      <td>...</td>\n",
       "      <td>...</td>\n",
       "      <td>...</td>\n",
       "    </tr>\n",
       "    <tr>\n",
       "      <th>468</th>\n",
       "      <td>PT00M07.00S</td>\n",
       "      <td>0</td>\n",
       "      <td>7</td>\n",
       "      <td>2873</td>\n",
       "    </tr>\n",
       "    <tr>\n",
       "      <th>469</th>\n",
       "      <td>PT00M07.00S</td>\n",
       "      <td>0</td>\n",
       "      <td>7</td>\n",
       "      <td>2873</td>\n",
       "    </tr>\n",
       "    <tr>\n",
       "      <th>470</th>\n",
       "      <td>PT00M01.90S</td>\n",
       "      <td>0</td>\n",
       "      <td>1</td>\n",
       "      <td>2879</td>\n",
       "    </tr>\n",
       "    <tr>\n",
       "      <th>471</th>\n",
       "      <td>PT00M01.90S</td>\n",
       "      <td>0</td>\n",
       "      <td>1</td>\n",
       "      <td>2879</td>\n",
       "    </tr>\n",
       "    <tr>\n",
       "      <th>472</th>\n",
       "      <td>PT00M00.00S</td>\n",
       "      <td>0</td>\n",
       "      <td>0</td>\n",
       "      <td>2880</td>\n",
       "    </tr>\n",
       "  </tbody>\n",
       "</table>\n",
       "<p>1205241 rows × 4 columns</p>\n",
       "</div>"
      ],
      "text/plain": [
       "           clock  minutes  seconds  seconds_elapsed\n",
       "0    PT12M00.00S       12        0                0\n",
       "1    PT12M00.00S       12        0                0\n",
       "2    PT11M43.00S       11       43               17\n",
       "3    PT11M33.00S       11       33               27\n",
       "4    PT11M23.00S       11       23               37\n",
       "..           ...      ...      ...              ...\n",
       "468  PT00M07.00S        0        7             2873\n",
       "469  PT00M07.00S        0        7             2873\n",
       "470  PT00M01.90S        0        1             2879\n",
       "471  PT00M01.90S        0        1             2879\n",
       "472  PT00M00.00S        0        0             2880\n",
       "\n",
       "[1205241 rows x 4 columns]"
      ]
     },
     "execution_count": 14,
     "metadata": {},
     "output_type": "execute_result"
    }
   ],
   "source": [
    "all_plays[[\"clock\", \"minutes\", \"seconds\", \"seconds_elapsed\"]]"
   ]
  },
  {
   "cell_type": "markdown",
   "id": "4de58569",
   "metadata": {},
   "source": [
    "## Turnovers\n",
    "Specifically getting the play prior to the turnover"
   ]
  },
  {
   "cell_type": "code",
   "execution_count": 160,
   "id": "79ab6b9a",
   "metadata": {
    "ExecuteTime": {
     "end_time": "2025-04-24T20:27:50.559148Z",
     "start_time": "2025-04-24T20:27:50.400118Z"
    },
    "scrolled": true
   },
   "outputs": [],
   "source": [
    "all_plays[\"next_actionType\"] = all_plays[\"actionType\"].shift(-1)\n",
    "all_plays[\"next_subType\"] = all_plays[\"subType\"].shift(-1)\n",
    "all_plays[\"next_actionId\"] = all_plays[\"actionId\"].shift(-1)\n",
    "all_plays[\"next_seconds_elapsed\"] = all_plays[\"seconds_elapsed\"].shift(-1)\n",
    "all_plays[\"next_description\"] = all_plays[\"description\"].shift(-1)\n",
    "all_plays[\"next_team\"] = all_plays[\"teamTricode\"].shift(-1)\n",
    "all_plays[\"time_to_turnover\"] = all_plays[\"next_seconds_elapsed\"] - all_plays[\"seconds_elapsed\"]"
   ]
  },
  {
   "cell_type": "code",
   "execution_count": 161,
   "id": "72d6655c",
   "metadata": {
    "ExecuteTime": {
     "end_time": "2025-04-24T20:27:52.811374Z",
     "start_time": "2025-04-24T20:27:52.555617Z"
    }
   },
   "outputs": [],
   "source": [
    "turnovers = all_plays.loc[\n",
    "    ((all_plays[\"actionType\"] == \"Turnover\")\n",
    "    | (all_plays[\"next_actionType\"] == \"Turnover\"))\n",
    "    & ((all_plays[\"subType\"] == \"Bad Pass\")\n",
    "    | (all_plays[\"next_subType\"] == \"Bad Pass\")), \n",
    "    [\"game_id\", \"actionId\", \"next_actionId\"]\n",
    "].assign(\n",
    "    key=lambda row: row[\"game_id\"].astype(str) + \"-\" +row[\"actionId\"].astype(str)\n",
    ")"
   ]
  },
  {
   "cell_type": "code",
   "execution_count": 162,
   "id": "693aa209",
   "metadata": {
    "ExecuteTime": {
     "end_time": "2025-04-24T20:27:57.200876Z",
     "start_time": "2025-04-24T20:27:55.907198Z"
    },
    "scrolled": false
   },
   "outputs": [],
   "source": [
    "with_tos = all_plays.merge(\n",
    "    turnovers[[\"game_id\", \"actionId\", \"key\"]],\n",
    "    on=[\"game_id\", \"actionId\"],\n",
    "    how=\"left\"\n",
    ").merge(\n",
    "    turnovers[[\"game_id\", \"next_actionId\", \"key\"]],\n",
    "    on=[\"game_id\", \"next_actionId\"],\n",
    "    how=\"left\"\n",
    ")\n",
    "\n",
    "with_tos = with_tos.loc[\n",
    "    ~pd.isnull(with_tos[\"key_x\"])\n",
    "    | ~pd.isnull(with_tos[\"key_y\"])\n",
    "]\n",
    "\n",
    "with_tos = with_tos.loc[\n",
    "    (with_tos[\"next_subType\"] == \"Bad Pass\")\n",
    "    & (~with_tos[\"actionType\"].isin([\"Turnover\", \"Rebound\"]))\n",
    "    & (~with_tos[\"description\"].str.contains(\"STEAL\"))\n",
    "    & (with_tos[\"teamTricode\"] != with_tos[\"next_team\"])\n",
    "].sort_values(\"time_to_turnover\")"
   ]
  },
  {
   "cell_type": "code",
   "execution_count": 154,
   "id": "81b8b025",
   "metadata": {
    "ExecuteTime": {
     "end_time": "2025-04-24T20:25:04.352269Z",
     "start_time": "2025-04-24T20:25:04.328520Z"
    }
   },
   "outputs": [],
   "source": [
    "tos_team_agg = with_tos.assign(\n",
    "    less_than_2_secs=lambda row: row[\"time_to_turnover\"] <= 1\n",
    ").groupby([\"next_team\", \"less_than_2_secs\"]).agg({\n",
    "    \"key_x\": \"count\"\n",
    "}).reset_index().pivot_table(\n",
    "    index=\"next_team\",\n",
    "    columns=\"less_than_2_secs\",\n",
    "    values=\"key_x\"\n",
    ").reset_index().rename(columns={\n",
    "    False: \"False\",\n",
    "    True: \"True\"\n",
    "}).assign(\n",
    "    perc_tos=lambda row: row[\"True\"]/(row[\"True\"]+row[\"False\"])\n",
    ")"
   ]
  },
  {
   "cell_type": "code",
   "execution_count": 252,
   "id": "b6b165c8",
   "metadata": {
    "ExecuteTime": {
     "end_time": "2025-04-24T21:22:29.476036Z",
     "start_time": "2025-04-24T21:22:29.449950Z"
    }
   },
   "outputs": [
    {
     "data": {
      "text/html": [
       "<div>\n",
       "<style scoped>\n",
       "    .dataframe tbody tr th:only-of-type {\n",
       "        vertical-align: middle;\n",
       "    }\n",
       "\n",
       "    .dataframe tbody tr th {\n",
       "        vertical-align: top;\n",
       "    }\n",
       "\n",
       "    .dataframe thead th {\n",
       "        text-align: right;\n",
       "    }\n",
       "</style>\n",
       "<table border=\"1\" class=\"dataframe\">\n",
       "  <thead>\n",
       "    <tr style=\"text-align: right;\">\n",
       "      <th>less_than_2_secs</th>\n",
       "      <th>Team</th>\n",
       "      <th>&gt;1 Second</th>\n",
       "      <th>&lt;=1 Second</th>\n",
       "      <th>Rate</th>\n",
       "    </tr>\n",
       "  </thead>\n",
       "  <tbody>\n",
       "    <tr>\n",
       "      <th>2</th>\n",
       "      <td>BOS</td>\n",
       "      <td>289.0</td>\n",
       "      <td>9.0</td>\n",
       "      <td>3.02%</td>\n",
       "    </tr>\n",
       "    <tr>\n",
       "      <th>19</th>\n",
       "      <td>NYK</td>\n",
       "      <td>311.0</td>\n",
       "      <td>9.0</td>\n",
       "      <td>2.81%</td>\n",
       "    </tr>\n",
       "    <tr>\n",
       "      <th>16</th>\n",
       "      <td>MIL</td>\n",
       "      <td>357.0</td>\n",
       "      <td>9.0</td>\n",
       "      <td>2.46%</td>\n",
       "    </tr>\n",
       "    <tr>\n",
       "      <th>18</th>\n",
       "      <td>NOP</td>\n",
       "      <td>385.0</td>\n",
       "      <td>9.0</td>\n",
       "      <td>2.28%</td>\n",
       "    </tr>\n",
       "    <tr>\n",
       "      <th>17</th>\n",
       "      <td>MIN</td>\n",
       "      <td>394.0</td>\n",
       "      <td>9.0</td>\n",
       "      <td>2.23%</td>\n",
       "    </tr>\n",
       "    <tr>\n",
       "      <th>13</th>\n",
       "      <td>LAL</td>\n",
       "      <td>427.0</td>\n",
       "      <td>9.0</td>\n",
       "      <td>2.06%</td>\n",
       "    </tr>\n",
       "    <tr>\n",
       "      <th>29</th>\n",
       "      <td>WAS</td>\n",
       "      <td>433.0</td>\n",
       "      <td>9.0</td>\n",
       "      <td>2.04%</td>\n",
       "    </tr>\n",
       "    <tr>\n",
       "      <th>8</th>\n",
       "      <td>DET</td>\n",
       "      <td>445.0</td>\n",
       "      <td>9.0</td>\n",
       "      <td>1.98%</td>\n",
       "    </tr>\n",
       "    <tr>\n",
       "      <th>26</th>\n",
       "      <td>SAS</td>\n",
       "      <td>451.0</td>\n",
       "      <td>9.0</td>\n",
       "      <td>1.96%</td>\n",
       "    </tr>\n",
       "    <tr>\n",
       "      <th>9</th>\n",
       "      <td>GSW</td>\n",
       "      <td>402.0</td>\n",
       "      <td>8.0</td>\n",
       "      <td>1.95%</td>\n",
       "    </tr>\n",
       "    <tr>\n",
       "      <th>15</th>\n",
       "      <td>MIA</td>\n",
       "      <td>369.0</td>\n",
       "      <td>7.0</td>\n",
       "      <td>1.86%</td>\n",
       "    </tr>\n",
       "    <tr>\n",
       "      <th>0</th>\n",
       "      <td>ATL</td>\n",
       "      <td>501.0</td>\n",
       "      <td>9.0</td>\n",
       "      <td>1.76%</td>\n",
       "    </tr>\n",
       "    <tr>\n",
       "      <th>12</th>\n",
       "      <td>LAC</td>\n",
       "      <td>393.0</td>\n",
       "      <td>7.0</td>\n",
       "      <td>1.75%</td>\n",
       "    </tr>\n",
       "    <tr>\n",
       "      <th>22</th>\n",
       "      <td>PHI</td>\n",
       "      <td>315.0</td>\n",
       "      <td>5.0</td>\n",
       "      <td>1.56%</td>\n",
       "    </tr>\n",
       "    <tr>\n",
       "      <th>10</th>\n",
       "      <td>HOU</td>\n",
       "      <td>316.0</td>\n",
       "      <td>5.0</td>\n",
       "      <td>1.56%</td>\n",
       "    </tr>\n",
       "    <tr>\n",
       "      <th>28</th>\n",
       "      <td>UTA</td>\n",
       "      <td>463.0</td>\n",
       "      <td>7.0</td>\n",
       "      <td>1.49%</td>\n",
       "    </tr>\n",
       "    <tr>\n",
       "      <th>11</th>\n",
       "      <td>IND</td>\n",
       "      <td>337.0</td>\n",
       "      <td>5.0</td>\n",
       "      <td>1.46%</td>\n",
       "    </tr>\n",
       "    <tr>\n",
       "      <th>6</th>\n",
       "      <td>DAL</td>\n",
       "      <td>405.0</td>\n",
       "      <td>6.0</td>\n",
       "      <td>1.46%</td>\n",
       "    </tr>\n",
       "    <tr>\n",
       "      <th>21</th>\n",
       "      <td>ORL</td>\n",
       "      <td>356.0</td>\n",
       "      <td>5.0</td>\n",
       "      <td>1.39%</td>\n",
       "    </tr>\n",
       "    <tr>\n",
       "      <th>20</th>\n",
       "      <td>OKC</td>\n",
       "      <td>306.0</td>\n",
       "      <td>4.0</td>\n",
       "      <td>1.29%</td>\n",
       "    </tr>\n",
       "    <tr>\n",
       "      <th>5</th>\n",
       "      <td>CLE</td>\n",
       "      <td>394.0</td>\n",
       "      <td>5.0</td>\n",
       "      <td>1.25%</td>\n",
       "    </tr>\n",
       "    <tr>\n",
       "      <th>3</th>\n",
       "      <td>CHA</td>\n",
       "      <td>421.0</td>\n",
       "      <td>5.0</td>\n",
       "      <td>1.17%</td>\n",
       "    </tr>\n",
       "    <tr>\n",
       "      <th>23</th>\n",
       "      <td>PHX</td>\n",
       "      <td>445.0</td>\n",
       "      <td>4.0</td>\n",
       "      <td>0.89%</td>\n",
       "    </tr>\n",
       "    <tr>\n",
       "      <th>25</th>\n",
       "      <td>SAC</td>\n",
       "      <td>342.0</td>\n",
       "      <td>3.0</td>\n",
       "      <td>0.87%</td>\n",
       "    </tr>\n",
       "    <tr>\n",
       "      <th>27</th>\n",
       "      <td>TOR</td>\n",
       "      <td>466.0</td>\n",
       "      <td>4.0</td>\n",
       "      <td>0.85%</td>\n",
       "    </tr>\n",
       "    <tr>\n",
       "      <th>14</th>\n",
       "      <td>MEM</td>\n",
       "      <td>386.0</td>\n",
       "      <td>3.0</td>\n",
       "      <td>0.77%</td>\n",
       "    </tr>\n",
       "    <tr>\n",
       "      <th>1</th>\n",
       "      <td>BKN</td>\n",
       "      <td>394.0</td>\n",
       "      <td>3.0</td>\n",
       "      <td>0.76%</td>\n",
       "    </tr>\n",
       "    <tr>\n",
       "      <th>7</th>\n",
       "      <td>DEN</td>\n",
       "      <td>425.0</td>\n",
       "      <td>3.0</td>\n",
       "      <td>0.7%</td>\n",
       "    </tr>\n",
       "    <tr>\n",
       "      <th>4</th>\n",
       "      <td>CHI</td>\n",
       "      <td>369.0</td>\n",
       "      <td>2.0</td>\n",
       "      <td>0.54%</td>\n",
       "    </tr>\n",
       "    <tr>\n",
       "      <th>24</th>\n",
       "      <td>POR</td>\n",
       "      <td>439.0</td>\n",
       "      <td>2.0</td>\n",
       "      <td>0.45%</td>\n",
       "    </tr>\n",
       "  </tbody>\n",
       "</table>\n",
       "</div>"
      ],
      "text/plain": [
       "less_than_2_secs Team  >1 Second  <=1 Second   Rate\n",
       "2                 BOS      289.0         9.0  3.02%\n",
       "19                NYK      311.0         9.0  2.81%\n",
       "16                MIL      357.0         9.0  2.46%\n",
       "18                NOP      385.0         9.0  2.28%\n",
       "17                MIN      394.0         9.0  2.23%\n",
       "13                LAL      427.0         9.0  2.06%\n",
       "29                WAS      433.0         9.0  2.04%\n",
       "8                 DET      445.0         9.0  1.98%\n",
       "26                SAS      451.0         9.0  1.96%\n",
       "9                 GSW      402.0         8.0  1.95%\n",
       "15                MIA      369.0         7.0  1.86%\n",
       "0                 ATL      501.0         9.0  1.76%\n",
       "12                LAC      393.0         7.0  1.75%\n",
       "22                PHI      315.0         5.0  1.56%\n",
       "10                HOU      316.0         5.0  1.56%\n",
       "28                UTA      463.0         7.0  1.49%\n",
       "11                IND      337.0         5.0  1.46%\n",
       "6                 DAL      405.0         6.0  1.46%\n",
       "21                ORL      356.0         5.0  1.39%\n",
       "20                OKC      306.0         4.0  1.29%\n",
       "5                 CLE      394.0         5.0  1.25%\n",
       "3                 CHA      421.0         5.0  1.17%\n",
       "23                PHX      445.0         4.0  0.89%\n",
       "25                SAC      342.0         3.0  0.87%\n",
       "27                TOR      466.0         4.0  0.85%\n",
       "14                MEM      386.0         3.0  0.77%\n",
       "1                 BKN      394.0         3.0  0.76%\n",
       "7                 DEN      425.0         3.0   0.7%\n",
       "4                 CHI      369.0         2.0  0.54%\n",
       "24                POR      439.0         2.0  0.45%"
      ]
     },
     "execution_count": 252,
     "metadata": {},
     "output_type": "execute_result"
    }
   ],
   "source": [
    "tos_team_agg.sort_values(\"perc_tos\", ascending=False).rename(columns={\n",
    "    \"next_team\": \"Team\",\n",
    "    \"False\": \">1 Second\",\n",
    "    \"True\": \"<=1 Second\",\n",
    "    \"perc_tos\": \"Rate\"\n",
    "}).assign(\n",
    "    Rate=lambda row: round(row[\"Rate\"]*100,2).astype(str) + \"%\"\n",
    ")"
   ]
  },
  {
   "cell_type": "markdown",
   "id": "bbd77161",
   "metadata": {},
   "source": [
    "# Viz"
   ]
  },
  {
   "cell_type": "markdown",
   "id": "507aabc9",
   "metadata": {},
   "source": [
    "### Bad Pass Turnovers"
   ]
  },
  {
   "cell_type": "markdown",
   "id": "5b895785",
   "metadata": {},
   "source": [
    "#### % TOs < 2 Seconds By Team"
   ]
  },
  {
   "cell_type": "code",
   "execution_count": 247,
   "id": "76071f6e",
   "metadata": {
    "ExecuteTime": {
     "end_time": "2025-04-24T21:18:06.027930Z",
     "start_time": "2025-04-24T21:18:05.984538Z"
    }
   },
   "outputs": [
    {
     "data": {
      "text/html": [
       "<iframe\n",
       "    scrolling=\"no\"\n",
       "    width=\"100%\"\n",
       "    height=\"545px\"\n",
       "    src=\"iframe_figures/figure_247.html\"\n",
       "    frameborder=\"0\"\n",
       "    allowfullscreen\n",
       "></iframe>\n"
      ]
     },
     "metadata": {},
     "output_type": "display_data"
    }
   ],
   "source": [
    "overall = tos_team_agg[\"True\"].sum()/(tos_team_agg[\"True\"].sum()+tos_team_agg[\"False\"].sum())\n",
    "fig = go.Figure()\n",
    "fig.add_trace(\n",
    "    go.Bar(\n",
    "        x=tos_team_agg[\"next_team\"],\n",
    "        y=tos_team_agg[\"perc_tos\"],\n",
    "        text=tos_team_agg[\"perc_tos\"],\n",
    "        marker=dict(color=np.where(tos_team_agg[\"next_team\"]=='BOS', 'green', 'lightblue')),\n",
    "        texttemplate=\"%{y:0.2p}\",\n",
    "        textposition=\"outside\",\n",
    "        textfont=dict(size=14)\n",
    "    )\n",
    ")\n",
    "fig.add_annotation(\n",
    "    xref=\"paper\",\n",
    "    x=0.8,\n",
    "    y=overall+.001,\n",
    "    text=f\"League Rate: {round(overall*100,2)}%\",\n",
    "    font=dict(size=10),\n",
    "    showarrow=False\n",
    ")\n",
    "fig.add_hline(\n",
    "    y=overall,\n",
    "    line=dict(dash=\"dot\"), \n",
    "    opacity=0.5\n",
    ")\n",
    "fig.update_layout(\n",
    "    xaxis=dict(categoryorder='total descending', tickfont=dict(color=\"gray\", size=10)),\n",
    "    yaxis=dict(visible=False),\n",
    "    paper_bgcolor=\"#FFFAF0\",\n",
    "    plot_bgcolor=\"#FFFAF0\",\n",
    "#     color=dict(opacity=0.5),\n",
    "    title=dict(\n",
    "        text=\"\"\"\n",
    "            % of <b>Bad Pass</b> Turnovers Within 1 Second of Inbound<br><sup>Celtics turn it over on inbounds plays at twice the league rate</sup>\n",
    "            \"\"\",\n",
    "        font=dict(size=16)\n",
    "    )\n",
    ")\n",
    "fig.show()"
   ]
  },
  {
   "cell_type": "markdown",
   "id": "be208c24",
   "metadata": {},
   "source": [
    "#### Distribution"
   ]
  },
  {
   "cell_type": "code",
   "execution_count": 246,
   "id": "5540567c",
   "metadata": {
    "ExecuteTime": {
     "end_time": "2025-04-24T21:17:57.693227Z",
     "start_time": "2025-04-24T21:17:57.517583Z"
    }
   },
   "outputs": [
    {
     "data": {
      "text/html": [
       "<iframe\n",
       "    scrolling=\"no\"\n",
       "    width=\"100%\"\n",
       "    height=\"545px\"\n",
       "    src=\"iframe_figures/figure_246.html\"\n",
       "    frameborder=\"0\"\n",
       "    allowfullscreen\n",
       "></iframe>\n"
      ]
     },
     "metadata": {},
     "output_type": "display_data"
    }
   ],
   "source": [
    "fig = go.Figure()\n",
    "fig.add_trace(\n",
    "    go.Histogram(\n",
    "        x=with_tos[\"time_to_turnover\"],\n",
    "        histnorm=\"probability\",\n",
    "        hovertemplate=\"%{y:.2%}\",\n",
    "        marker=dict(opacity=0.8)\n",
    "    )\n",
    ")\n",
    "fig.update_layout(\n",
    "    plot_bgcolor=\"#FFFAF0\",\n",
    "    paper_bgcolor=\"#FFFAF0\",\n",
    "    title=dict(\n",
    "        text=\"Distribution of <b>Bad Pass</b> Turnovers Within <em>N</em> Seconds of Inbound\",\n",
    "        font=dict(size=16)\n",
    "    ),\n",
    "    xaxis=dict(dtick=1, title=\"Seconds From Deadball\"),\n",
    "    yaxis=dict(tickformat=\".0%\"),\n",
    "    bargap=0.02,\n",
    ")\n",
    "fig.show()"
   ]
  },
  {
   "cell_type": "markdown",
   "id": "4f384380",
   "metadata": {},
   "source": [
    "#### Distribution per Team"
   ]
  },
  {
   "cell_type": "code",
   "execution_count": 204,
   "id": "f1eed4c2",
   "metadata": {
    "ExecuteTime": {
     "end_time": "2025-04-24T20:45:38.672788Z",
     "start_time": "2025-04-24T20:45:38.640476Z"
    }
   },
   "outputs": [],
   "source": [
    "to_teams = with_tos[\"next_team\"].unique()"
   ]
  },
  {
   "cell_type": "code",
   "execution_count": 217,
   "id": "c3b3ce95",
   "metadata": {
    "ExecuteTime": {
     "end_time": "2025-04-24T20:54:53.317967Z",
     "start_time": "2025-04-24T20:54:53.305088Z"
    }
   },
   "outputs": [],
   "source": [
    "from plotly.subplots import make_subplots"
   ]
  },
  {
   "cell_type": "code",
   "execution_count": 253,
   "id": "b8aab36b",
   "metadata": {
    "ExecuteTime": {
     "end_time": "2025-04-24T21:27:10.918164Z",
     "start_time": "2025-04-24T21:27:10.751802Z"
    }
   },
   "outputs": [
    {
     "data": {
      "text/html": [
       "<iframe\n",
       "    scrolling=\"no\"\n",
       "    width=\"100%\"\n",
       "    height=\"545px\"\n",
       "    src=\"iframe_figures/figure_253.html\"\n",
       "    frameborder=\"0\"\n",
       "    allowfullscreen\n",
       "></iframe>\n"
      ]
     },
     "metadata": {},
     "output_type": "display_data"
    }
   ],
   "source": [
    "fig = make_subplots(\n",
    "    rows=5,\n",
    "    cols=6\n",
    ")\n",
    "for i, t in enumerate(to_teams):\n",
    "    team_num = i+1\n",
    "    col = team_num//5 if team_num % 5 == 0 else (team_num//5)+1\n",
    "    row = 5 if team_num % 5 == 0 else team_num % 5\n",
    "    df = with_tos.loc[with_tos[\"next_team\"] == t]\n",
    "    fig.append_trace(\n",
    "        go.Violin(\n",
    "            x=df[\"next_team\"],\n",
    "            y=df[\"time_to_turnover\"],\n",
    "        ),\n",
    "        row,\n",
    "        col\n",
    "    )\n",
    "fig.update_layout(\n",
    "    showlegend=False,\n",
    "    plot_bgcolor=\"#FFFAF0\",\n",
    "    paper_bgcolor=\"#FFFAF0\",\n",
    ")\n",
    "fig.show()\n",
    "#\n",
    "#     fig.show()"
   ]
  },
  {
   "cell_type": "code",
   "execution_count": null,
   "id": "3030d053",
   "metadata": {},
   "outputs": [],
   "source": []
  }
 ],
 "metadata": {
  "kernelspec": {
   "display_name": "nba_env",
   "language": "python",
   "name": "nba_env"
  },
  "language_info": {
   "codemirror_mode": {
    "name": "ipython",
    "version": 3
   },
   "file_extension": ".py",
   "mimetype": "text/x-python",
   "name": "python",
   "nbconvert_exporter": "python",
   "pygments_lexer": "ipython3",
   "version": "3.10.5"
  },
  "toc": {
   "base_numbering": 1,
   "nav_menu": {},
   "number_sections": true,
   "sideBar": true,
   "skip_h1_title": false,
   "title_cell": "Table of Contents",
   "title_sidebar": "Contents",
   "toc_cell": false,
   "toc_position": {
    "height": "calc(100% - 180px)",
    "left": "10px",
    "top": "150px",
    "width": "208px"
   },
   "toc_section_display": true,
   "toc_window_display": true
  },
  "varInspector": {
   "cols": {
    "lenName": 16,
    "lenType": 16,
    "lenVar": 40
   },
   "kernels_config": {
    "python": {
     "delete_cmd_postfix": "",
     "delete_cmd_prefix": "del ",
     "library": "var_list.py",
     "varRefreshCmd": "print(var_dic_list())"
    },
    "r": {
     "delete_cmd_postfix": ") ",
     "delete_cmd_prefix": "rm(",
     "library": "var_list.r",
     "varRefreshCmd": "cat(var_dic_list()) "
    }
   },
   "oldHeight": 846.852,
   "position": {
    "height": "40px",
    "left": "1847px",
    "right": "20px",
    "top": "120px",
    "width": "367px"
   },
   "types_to_exclude": [
    "module",
    "function",
    "builtin_function_or_method",
    "instance",
    "_Feature"
   ],
   "varInspector_section_display": "none",
   "window_display": false
  }
 },
 "nbformat": 4,
 "nbformat_minor": 5
}
