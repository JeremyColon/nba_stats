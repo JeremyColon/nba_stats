{
 "cells": [
  {
   "cell_type": "code",
   "execution_count": 1,
   "id": "fcf383e0",
   "metadata": {
    "ExecuteTime": {
     "end_time": "2024-11-21T16:12:32.813193Z",
     "start_time": "2024-11-21T16:12:32.494669Z"
    }
   },
   "outputs": [],
   "source": [
    "import pandas as pd\n",
    "from nba_api.stats import endpoints as nba_endpoints\n",
    "from nba_api.live.nba import endpoints as nba_live_endpoints\n",
    "import plotly.graph_objects as go\n",
    "from tqdm.notebook import tqdm, trange"
   ]
  },
  {
   "cell_type": "code",
   "execution_count": 2,
   "id": "af94d252",
   "metadata": {
    "ExecuteTime": {
     "end_time": "2024-11-21T16:12:33.457112Z",
     "start_time": "2024-11-21T16:12:33.437802Z"
    }
   },
   "outputs": [],
   "source": [
    "pd.set_option(\"display.max_rows\", 200)\n",
    "pd.set_option(\"display.max_columns\", 500)"
   ]
  },
  {
   "cell_type": "markdown",
   "id": "e73638ee",
   "metadata": {},
   "source": [
    "# FT Analysis"
   ]
  },
  {
   "cell_type": "code",
   "execution_count": 3,
   "id": "f68b5627",
   "metadata": {
    "ExecuteTime": {
     "end_time": "2024-11-21T16:12:33.957448Z",
     "start_time": "2024-11-21T16:12:33.950958Z"
    }
   },
   "outputs": [],
   "source": [
    "seasons = [\n",
    "    f\"{x}-{(x+1)-2000}\" for x in range(int(2010),2025)\n",
    "]"
   ]
  },
  {
   "cell_type": "markdown",
   "id": "e7451ce5",
   "metadata": {},
   "source": [
    "## Players"
   ]
  },
  {
   "cell_type": "code",
   "execution_count": 5,
   "id": "5883a6b6",
   "metadata": {
    "ExecuteTime": {
     "end_time": "2024-11-21T16:12:57.204419Z",
     "start_time": "2024-11-21T16:12:57.198284Z"
    }
   },
   "outputs": [],
   "source": [
    "players = pd.DataFrame()"
   ]
  },
  {
   "cell_type": "code",
   "execution_count": null,
   "id": "b0dbb0fe",
   "metadata": {
    "ExecuteTime": {
     "end_time": "2024-11-21T15:08:21.160055Z",
     "start_time": "2024-11-21T15:08:17.123845Z"
    },
    "scrolled": true
   },
   "outputs": [],
   "source": [
    "for s in tqdm(seasons):\n",
    "    playerindex = nba_endpoints.playerindex.PlayerIndex(season=s)\n",
    "    data = playerindex.data_sets[0].get_dict().get(\"data\")\n",
    "    headers = playerindex.data_sets[0].get_dict().get(\"headers\")\n",
    "    df = pd.DataFrame(data, columns=headers)\n",
    "    players = pd.concat(\n",
    "        [\n",
    "            players,\n",
    "            df\n",
    "        ],\n",
    "        axis=0\n",
    "    )"
   ]
  },
  {
   "cell_type": "code",
   "execution_count": null,
   "id": "2fa18023",
   "metadata": {
    "ExecuteTime": {
     "end_time": "2024-11-21T15:08:21.779965Z",
     "start_time": "2024-11-21T15:08:21.746720Z"
    }
   },
   "outputs": [],
   "source": [
    "players.loc[players[\"PLAYER_LAST_NAME\"]==\"Tatum\"]"
   ]
  },
  {
   "cell_type": "markdown",
   "id": "75959f10",
   "metadata": {},
   "source": [
    "## Games"
   ]
  },
  {
   "cell_type": "code",
   "execution_count": null,
   "id": "52420e67",
   "metadata": {
    "ExecuteTime": {
     "end_time": "2024-11-21T15:08:30.029647Z",
     "start_time": "2024-11-21T15:08:22.622745Z"
    }
   },
   "outputs": [],
   "source": [
    "teamlogs = nba_endpoints.teamgamelogs\n",
    "\n",
    "games = pd.DataFrame()\n",
    "for s in tqdm(seasons):\n",
    "    games = pd.concat(\n",
    "        [\n",
    "            games,\n",
    "            teamlogs.TeamGameLogs(season_nullable=s).get_data_frames()[0]\n",
    "        ]\n",
    "    )\n",
    "game_ids = games[\"GAME_ID\"]"
   ]
  },
  {
   "cell_type": "code",
   "execution_count": null,
   "id": "3557b6ae",
   "metadata": {
    "ExecuteTime": {
     "end_time": "2024-11-21T15:08:31.187496Z",
     "start_time": "2024-11-21T15:08:31.178294Z"
    }
   },
   "outputs": [],
   "source": [
    "game_ids = list(set(game_ids))"
   ]
  },
  {
   "cell_type": "code",
   "execution_count": null,
   "id": "96e38788",
   "metadata": {
    "ExecuteTime": {
     "end_time": "2024-11-21T15:08:32.109515Z",
     "start_time": "2024-11-21T15:08:32.107241Z"
    }
   },
   "outputs": [],
   "source": [
    "len(game_ids)"
   ]
  },
  {
   "cell_type": "code",
   "execution_count": null,
   "id": "edc4c57a",
   "metadata": {
    "ExecuteTime": {
     "end_time": "2024-11-21T15:08:33.086038Z",
     "start_time": "2024-11-21T15:08:33.039532Z"
    }
   },
   "outputs": [],
   "source": [
    "games.head()"
   ]
  },
  {
   "cell_type": "markdown",
   "id": "53586410",
   "metadata": {},
   "source": [
    "## All Free Throws"
   ]
  },
  {
   "cell_type": "code",
   "execution_count": null,
   "id": "3621e0e1",
   "metadata": {
    "ExecuteTime": {
     "end_time": "2024-11-21T16:12:18.100365Z",
     "start_time": "2024-11-21T16:10:46.680383Z"
    },
    "scrolled": false
   },
   "outputs": [],
   "source": [
    "game = nba_endpoints.playbyplayv3\n",
    "all_fts = pandas.DataFrame()\n",
    "for i in tqdm(range(len(game_ids))):\n",
    "    print(i) if i%100 == 0 else None\n",
    "    g = game_ids[i]\n",
    "    try:\n",
    "        df = pandas.DataFrame(game.PlayByPlayV3(game_id=g).get_dict().get(\"game\").get(\"actions\"))\n",
    "        dff = df.loc[\n",
    "            df[\"subType\"].str.startswith(\"Free Throw\")\n",
    "        ].assign(gameid=g)\n",
    "        all_fts = pandas.concat([all_fts, dff], axis=0)\n",
    "    except Exception as e:\n",
    "        print(f\"ERROR: Game {i+1} out of {len(game_ids)} -> {e}\")"
   ]
  },
  {
   "cell_type": "code",
   "execution_count": null,
   "id": "73421828",
   "metadata": {
    "ExecuteTime": {
     "end_time": "2024-11-21T15:05:11.613917Z",
     "start_time": "2024-11-21T15:05:11.613911Z"
    }
   },
   "outputs": [],
   "source": [
    "all_fts[\"gameid\"].nunique()"
   ]
  },
  {
   "cell_type": "code",
   "execution_count": null,
   "id": "a2c2910e",
   "metadata": {
    "ExecuteTime": {
     "end_time": "2024-11-21T13:03:37.498997Z",
     "start_time": "2024-11-21T13:03:36.892325Z"
    }
   },
   "outputs": [],
   "source": [
    "all_fts.assign(\n",
    "    made=lambda row: np.where(row[\"description\"].str.contains(\"MISS\"), 0, 1)\n",
    ")"
   ]
  },
  {
   "cell_type": "code",
   "execution_count": null,
   "id": "d826122b",
   "metadata": {
    "ExecuteTime": {
     "end_time": "2024-11-21T13:04:11.306116Z",
     "start_time": "2024-11-21T13:04:10.505995Z"
    }
   },
   "outputs": [],
   "source": [
    "all_fts = all_fts.assign(\n",
    "    made=lambda row: np.where(row[\"description\"].str.contains(\"MISS\"), 0, 1)\n",
    ")"
   ]
  },
  {
   "cell_type": "code",
   "execution_count": null,
   "id": "511db4a4",
   "metadata": {
    "ExecuteTime": {
     "end_time": "2024-11-21T13:05:50.476848Z",
     "start_time": "2024-11-21T13:05:50.362086Z"
    }
   },
   "outputs": [],
   "source": [
    "all_fts.groupby(\"subType\").agg({\n",
    "    \"made\": \"sum\",\n",
    "    \"actionNumber\": \"count\"\n",
    "}).reset_index().assign(\n",
    "    ft_perc=lambda row: row[\"made\"]/row[\"actionNumber\"]\n",
    ")"
   ]
  },
  {
   "cell_type": "code",
   "execution_count": null,
   "id": "40cbc6dd",
   "metadata": {
    "ExecuteTime": {
     "end_time": "2024-11-21T13:07:19.022902Z",
     "start_time": "2024-11-21T13:07:19.002156Z"
    }
   },
   "outputs": [],
   "source": [
    "all_fts[\"made\"].sum()/all_fts[\"actionNumber\"].count()"
   ]
  },
  {
   "cell_type": "code",
   "execution_count": null,
   "id": "77168b48",
   "metadata": {
    "ExecuteTime": {
     "end_time": "2024-11-21T13:08:35.416441Z",
     "start_time": "2024-11-21T13:08:35.390099Z"
    }
   },
   "outputs": [],
   "source": [
    "players"
   ]
  },
  {
   "cell_type": "code",
   "execution_count": null,
   "id": "e614d2ed",
   "metadata": {
    "ExecuteTime": {
     "end_time": "2024-11-21T13:12:10.386012Z",
     "start_time": "2024-11-21T13:12:10.374081Z"
    }
   },
   "outputs": [],
   "source": [
    "all_fts.columns"
   ]
  },
  {
   "cell_type": "code",
   "execution_count": null,
   "id": "b12b8ce3",
   "metadata": {
    "ExecuteTime": {
     "end_time": "2024-11-21T14:11:12.610743Z",
     "start_time": "2024-11-21T14:11:11.880341Z"
    }
   },
   "outputs": [],
   "source": [
    "dff = all_fts.merge(\n",
    "    players[[\"PERSON_ID\", \"PLAYER_FIRST_NAME\", \"PLAYER_LAST_NAME\"]],\n",
    "    left_on=\"personId\",\n",
    "    right_on=\"PERSON_ID\",\n",
    "    how=\"left\"\n",
    ")[[\n",
    "    \"gameid\", \"personId\", \"playerNameI\", \"PLAYER_FIRST_NAME_y\", \"PLAYER_LAST_NAME_y\", \"actionNumber\", \n",
    "    \"period\", \"teamTricode\", \"subType\", \"made\"\n",
    "]].rename(columns={\"PLAYER_FIRST_NAME_y\": \"PLAYER_FIRST_NAME\", \"PLAYER_LAST_NAME_y\": \"PLAYER_LAST_NAME\"})"
   ]
  },
  {
   "cell_type": "code",
   "execution_count": null,
   "id": "3fb13fb4",
   "metadata": {
    "ExecuteTime": {
     "start_time": "2024-11-21T14:14:19.372Z"
    }
   },
   "outputs": [],
   "source": [
    "dff.assign(\n",
    "    ft_type=lambda row: np.where(\n",
    "        row[\"subType\"].str.contains(\"Technical\"), \n",
    "        \"Technical\",\n",
    "        np.where(\n",
    "            ~pd.isnull(row[\"subType\"].str.extract(\"Free Throw ([A-Za-z]+) \\d of \\d\")),\n",
    "            row[\"subType\"].str.extract(\"Free Throw ([A-Za-z]+) \\d of \\d\"),\n",
    "            \"Standard\"\n",
    "        )\n",
    "    )\n",
    ")"
   ]
  },
  {
   "cell_type": "code",
   "execution_count": null,
   "id": "edaeb71a",
   "metadata": {
    "ExecuteTime": {
     "end_time": "2024-11-19T20:01:21.292846Z",
     "start_time": "2024-11-19T20:01:21.279550Z"
    }
   },
   "outputs": [],
   "source": [
    "tech_fts.columns = [\"personId\", \"made\", \"total\"]"
   ]
  },
  {
   "cell_type": "code",
   "execution_count": null,
   "id": "4fe6a4e7",
   "metadata": {
    "ExecuteTime": {
     "end_time": "2024-11-19T20:02:45.422917Z",
     "start_time": "2024-11-19T20:02:44.549099Z"
    }
   },
   "outputs": [],
   "source": [
    "playerindex = nba_endpoints.playerindex.PlayerIndex()\n",
    "data = playerindex.data_sets[0].get_dict().get(\"PlayerIndex\").get(\"data\")\n",
    "headers = playerindex.data_sets[0].get_dict().get(\"PlayerIndex\").get(\"headers\")\n",
    "players = pd.DataFrame(\n",
    "    data, columns=headers\n",
    ")"
   ]
  },
  {
   "cell_type": "code",
   "execution_count": null,
   "id": "ac941a0d",
   "metadata": {
    "ExecuteTime": {
     "end_time": "2024-11-19T20:04:20.710188Z",
     "start_time": "2024-11-19T20:04:20.678315Z"
    },
    "scrolled": false
   },
   "outputs": [],
   "source": [
    "tech_fts.merge(\n",
    "    players[[\"PERSON_ID\", \"PLAYER_FIRST_NAME\", \"PLAYER_LAST_NAME\"]],\n",
    "    left_on=\"personId\",\n",
    "    right_on=\"PERSON_ID\",\n",
    "    how=\"left\"\n",
    ").assign(\n",
    "    tech_ft_perc=lambda row: row[\"made\"]/row[\"total\"]\n",
    ").sort_values(\"total\", ascending=False).head(100)"
   ]
  },
  {
   "cell_type": "code",
   "execution_count": null,
   "id": "f92dd487",
   "metadata": {},
   "outputs": [],
   "source": []
  }
 ],
 "metadata": {
  "kernelspec": {
   "display_name": "nba_env",
   "language": "python",
   "name": "nba_env"
  },
  "language_info": {
   "codemirror_mode": {
    "name": "ipython",
    "version": 3
   },
   "file_extension": ".py",
   "mimetype": "text/x-python",
   "name": "python",
   "nbconvert_exporter": "python",
   "pygments_lexer": "ipython3",
   "version": "3.10.5"
  },
  "toc": {
   "base_numbering": 1,
   "nav_menu": {},
   "number_sections": true,
   "sideBar": true,
   "skip_h1_title": false,
   "title_cell": "Table of Contents",
   "title_sidebar": "Contents",
   "toc_cell": false,
   "toc_position": {
    "height": "calc(100% - 180px)",
    "left": "10px",
    "top": "150px",
    "width": "208px"
   },
   "toc_section_display": true,
   "toc_window_display": true
  },
  "varInspector": {
   "cols": {
    "lenName": 16,
    "lenType": 16,
    "lenVar": 40
   },
   "kernels_config": {
    "python": {
     "delete_cmd_postfix": "",
     "delete_cmd_prefix": "del ",
     "library": "var_list.py",
     "varRefreshCmd": "print(var_dic_list())"
    },
    "r": {
     "delete_cmd_postfix": ") ",
     "delete_cmd_prefix": "rm(",
     "library": "var_list.r",
     "varRefreshCmd": "cat(var_dic_list()) "
    }
   },
   "oldHeight": 846.852,
   "position": {
    "height": "40px",
    "left": "1847px",
    "right": "20px",
    "top": "120px",
    "width": "367px"
   },
   "types_to_exclude": [
    "module",
    "function",
    "builtin_function_or_method",
    "instance",
    "_Feature"
   ],
   "varInspector_section_display": "none",
   "window_display": false
  }
 },
 "nbformat": 4,
 "nbformat_minor": 5
}
